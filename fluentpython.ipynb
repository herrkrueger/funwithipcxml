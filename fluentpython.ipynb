{
  "nbformat": 4,
  "nbformat_minor": 0,
  "metadata": {
    "colab": {
      "name": "fluentpython.ipynb",
      "provenance": [],
      "collapsed_sections": [],
      "authorship_tag": "ABX9TyOKmaXiz0GVByGkj6Ys+zyG",
      "include_colab_link": true
    },
    "kernelspec": {
      "name": "python3",
      "display_name": "Python 3"
    }
  },
  "cells": [
    {
      "cell_type": "markdown",
      "metadata": {
        "id": "view-in-github",
        "colab_type": "text"
      },
      "source": [
        "<a href=\"https://colab.research.google.com/github/herrkrueger/funwithipcxml/blob/main/fluentpython.ipynb\" target=\"_parent\"><img src=\"https://colab.research.google.com/assets/colab-badge.svg\" alt=\"Open In Colab\"/></a>"
      ]
    },
    {
      "cell_type": "markdown",
      "metadata": {
        "id": "nyfK_IsF3MPl"
      },
      "source": [
        "\n",
        "#Python Learning Samples\n",
        "from the Book [\"Fluent Python\"](https://www.amazon.de/Fluent-Python-Concise-Effective-Programming-ebook/dp/B0131L3PW4/)"
      ]
    },
    {
      "cell_type": "code",
      "metadata": {
        "id": "ULEyX9cq1qXu",
        "colab": {
          "base_uri": "https://localhost:8080/"
        },
        "outputId": "caaf5385-e11f-4117-918e-5fd48be3ab56"
      },
      "source": [
        "import collections\n",
        "from random import choice\n",
        "\n",
        "Card = collections.namedtuple('Card', ['rank', 'suit'])\n",
        "\n",
        "class FrenchDeck:\n",
        "    ranks = [str(n) for n in range(2, 11)] + list('JQKA')\n",
        "    suits = 'Karo Herz Piek Kreuz'.split()\n",
        "\n",
        "    def __init__(self):\n",
        "        self._cards = [Card(rank, suit) for suit in self.suits\n",
        "                                        for rank in self.ranks]\n",
        "\n",
        "    def __len__(self):\n",
        "        return len(self._cards)\n",
        "\n",
        "    def __getitem__(self, position):\n",
        "        return self._cards[position]\n",
        "\n",
        "\n",
        "deck = FrenchDeck()\n",
        "\n",
        "print(\"how many cards my class created?\", len(deck))\n",
        "\n",
        "print(\"one of the cards, simply enter number between 1 and 52:\", deck[51])\n",
        "\n",
        "print(\"just get random cards? easy!\")\n",
        "\n",
        "print(choice(deck))\n",
        "print(choice(deck))\n",
        "print(choice(deck))\n",
        "\n",
        "print(\"now only aces, wow!\")\n",
        "print(deck[12::13])\n",
        "\n",
        "print(\"now just iter through the cards and print all of them:\")\n",
        "for card in deck:\n",
        "  print(card)"
      ],
      "execution_count": null,
      "outputs": [
        {
          "output_type": "stream",
          "text": [
            "how many cards my class created? 52\n",
            "one of the cards, simply enter number between 1 and 52: Card(rank='A', suit='Kreuz')\n",
            "just get random cards? easy!\n",
            "Card(rank='J', suit='Piek')\n",
            "Card(rank='J', suit='Herz')\n",
            "Card(rank='K', suit='Karo')\n",
            "now only aces, wow!\n",
            "[Card(rank='A', suit='Karo'), Card(rank='A', suit='Herz'), Card(rank='A', suit='Piek'), Card(rank='A', suit='Kreuz')]\n",
            "now just iter through the cards and print all of them:\n",
            "Card(rank='2', suit='Karo')\n",
            "Card(rank='3', suit='Karo')\n",
            "Card(rank='4', suit='Karo')\n",
            "Card(rank='5', suit='Karo')\n",
            "Card(rank='6', suit='Karo')\n",
            "Card(rank='7', suit='Karo')\n",
            "Card(rank='8', suit='Karo')\n",
            "Card(rank='9', suit='Karo')\n",
            "Card(rank='10', suit='Karo')\n",
            "Card(rank='J', suit='Karo')\n",
            "Card(rank='Q', suit='Karo')\n",
            "Card(rank='K', suit='Karo')\n",
            "Card(rank='A', suit='Karo')\n",
            "Card(rank='2', suit='Herz')\n",
            "Card(rank='3', suit='Herz')\n",
            "Card(rank='4', suit='Herz')\n",
            "Card(rank='5', suit='Herz')\n",
            "Card(rank='6', suit='Herz')\n",
            "Card(rank='7', suit='Herz')\n",
            "Card(rank='8', suit='Herz')\n",
            "Card(rank='9', suit='Herz')\n",
            "Card(rank='10', suit='Herz')\n",
            "Card(rank='J', suit='Herz')\n",
            "Card(rank='Q', suit='Herz')\n",
            "Card(rank='K', suit='Herz')\n",
            "Card(rank='A', suit='Herz')\n",
            "Card(rank='2', suit='Piek')\n",
            "Card(rank='3', suit='Piek')\n",
            "Card(rank='4', suit='Piek')\n",
            "Card(rank='5', suit='Piek')\n",
            "Card(rank='6', suit='Piek')\n",
            "Card(rank='7', suit='Piek')\n",
            "Card(rank='8', suit='Piek')\n",
            "Card(rank='9', suit='Piek')\n",
            "Card(rank='10', suit='Piek')\n",
            "Card(rank='J', suit='Piek')\n",
            "Card(rank='Q', suit='Piek')\n",
            "Card(rank='K', suit='Piek')\n",
            "Card(rank='A', suit='Piek')\n",
            "Card(rank='2', suit='Kreuz')\n",
            "Card(rank='3', suit='Kreuz')\n",
            "Card(rank='4', suit='Kreuz')\n",
            "Card(rank='5', suit='Kreuz')\n",
            "Card(rank='6', suit='Kreuz')\n",
            "Card(rank='7', suit='Kreuz')\n",
            "Card(rank='8', suit='Kreuz')\n",
            "Card(rank='9', suit='Kreuz')\n",
            "Card(rank='10', suit='Kreuz')\n",
            "Card(rank='J', suit='Kreuz')\n",
            "Card(rank='Q', suit='Kreuz')\n",
            "Card(rank='K', suit='Kreuz')\n",
            "Card(rank='A', suit='Kreuz')\n"
          ],
          "name": "stdout"
        }
      ]
    }
  ]
}