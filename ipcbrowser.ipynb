{
  "nbformat": 4,
  "nbformat_minor": 0,
  "metadata": {
    "colab": {
      "name": "ipcbrowser.ipynb",
      "provenance": [],
      "toc_visible": true,
      "authorship_tag": "ABX9TyMm+cUt0teBiTguv7OnILDG",
      "include_colab_link": true
    },
    "kernelspec": {
      "name": "python3",
      "display_name": "Python 3"
    }
  },
  "cells": [
    {
      "cell_type": "markdown",
      "metadata": {
        "id": "view-in-github",
        "colab_type": "text"
      },
      "source": [
        "<a href=\"https://colab.research.google.com/github/herrkrueger/funwithipcxml/blob/main/ipcbrowser.ipynb\" target=\"_parent\"><img src=\"https://colab.research.google.com/assets/colab-badge.svg\" alt=\"Open In Colab\"/></a>"
      ]
    },
    {
      "cell_type": "markdown",
      "metadata": {
        "id": "NcmOXv9cDwrA"
      },
      "source": [
        "#Fun with IPC XML, Python lxml and ElementTree\n",
        "\n",
        "###Python Quellen\n",
        "* John Shipman's tutorial on [Python XML processing with lxml](https://www.academia.edu/38587906/Python_XML_processing_with_lxml)\n",
        "* The ElementTree API on [Python.org](https://docs.python.org/3/library/xml.etree.elementtree.html)\n",
        "\n",
        "###WIPO Links\n",
        "* Current Edition of [IPC Master Files from WIPO's Download and IT support area](https://www.wipo.int/classifications/ipc/en/ITsupport/) \n",
        " * here the  [direkt link zu the zip File](https://www.wipo.int/ipc/itos4ipc/ITSupport_and_download_area//20210101/MasterFiles/ipc_scheme_images_20210101.zip)\n",
        "* Documentation and XSDs are [here](https://www.wipo.int/classifications/ipc/en/ITsupport/Version20210101/documentation/IPCfiles.html)\n",
        " * esp. the Specification of the Scheme file [here](https://www.wipo.int/ipc/itos4ipc/ITSupport_and_download_area/Documentation/20210101/IPC_scheme_specs_v3_1.docx)\n",
        "* [Link](https://www.wipo.int/classifications/ipc/ipcpub/?notion=scheme&version=20210101&symbol=none&menulang=en&lang=en&viewmode=f&fipcpc=no&showdeleted=yes&indexes=no&headings=yes&notes=yes&direction=o2n&initial=A&cwid=none&tree=no&searchmode=smart) to the IPC Browser of WIPO\n"
      ]
    },
    {
      "cell_type": "markdown",
      "metadata": {
        "id": "TUxWPJGqSnPE"
      },
      "source": [
        "#First Sample Code"
      ]
    },
    {
      "cell_type": "markdown",
      "metadata": {
        "id": "LuGcPR_EJA7F"
      },
      "source": [
        "First, we just import lxml and get the file (manual download, put it here next to the sample data) and access it, print the upper level elements tags and the attribut dictonary. These are the sections of the IPC Tree. The attributes contain: 'kind' and 'symbol' and 'entryTpe'."
      ]
    },
    {
      "cell_type": "code",
      "metadata": {
        "id": "mUNPOSO-GaQ3"
      },
      "source": [
        "from lxml import etree as ET\n",
        "import time\n",
        "\n",
        "filename = \"./EN_ipc_scheme_20210101.xml\"\n",
        "parser = ET.XMLParser(remove_blank_text=True)\n",
        "tree = ET.parse(filename, parser=parser)\n",
        "root = tree.getroot()\n",
        "\n",
        "def ipcparser():\n",
        "  for child in root:\n",
        "    print(child.tag, child.attrib)\n",
        "ipcparser()"
      ],
      "execution_count": null,
      "outputs": []
    },
    {
      "cell_type": "markdown",
      "metadata": {
        "id": "kES1q_0TQ0qI"
      },
      "source": [
        "##What do we see? \n",
        "\n",
        "The **tag** (including the xmlns - NameSpace, that this entry belongs. There is only one ns in the XML btw.) and the **attributes**, obviously, and the **atributes** are:\n",
        "\n",
        "* 'kind' with its Values:\n",
        " * s = section\n",
        " * t = sub-section title\n",
        " * c = class\n",
        " * i = sub-class index\n",
        " * u = sub-class\n",
        " * g = guidance heading\n",
        " * m = main group\n",
        " * 1 to B = 11 levels of group (hexadecimal notation)\n",
        " * n = note\n",
        "* 'symbol' with its Values:\n",
        " * The IPC Symbol! Thats the thing... \n",
        "* 'entryType' with its Values:\n",
        " * K = classification symbol (default, i.e. for classification purpose only)\n",
        " * I = Indexing symbol  (i.e. for indexing purpose only)\n",
        " * D = Double purpose classification symbol (i.e. for both classification and indexing purpose) – existed only prior to the IPC reform\n",
        " * Z = problematic entry (i.e. structure and/or contents have been partially converted from CPC or FI)\n",
        "Interesting for us, are only entryType 'K'"
      ]
    },
    {
      "cell_type": "markdown",
      "metadata": {
        "id": "_gVTQ_VZPCjb"
      },
      "source": [
        "Dictionaries for kind level and title of level\n",
        "```\n",
        "kind_to_level = {\n",
        "  's': 1,\n",
        "  'c':2,\n",
        "  'u':3,\n",
        "  'g':4,\n",
        "  'm':4,\n",
        "  '1':5,\n",
        "  '2':6,\n",
        "  '3':7,\n",
        "  '4':8,\n",
        "  '5':9,\n",
        "  '6':10,\n",
        "  '7':11,\n",
        "  '8':12,\n",
        "  '9':13,\n",
        "  'A':14,\n",
        "  'B':15}\n",
        "\n",
        "kind_to_levelTitle = {\n",
        "  's':'section',\n",
        "  't':'sub-section title',\n",
        "  'c':'class',\n",
        "  'I':'sub-class index',\n",
        "  'u':'sub-class',\n",
        "  'g':'guidance heading',\n",
        "  'm':'main group',\n",
        "  '1':'.subgroup',\n",
        "  '2':'..subgroup',\n",
        "  '3':'...subgroup',\n",
        "  '4':'....subgroup',\n",
        "  '5':'.....subgroup',\n",
        "  '6':'......subgroup',\n",
        "  'n':'note'}\n",
        "```"
      ]
    },
    {
      "cell_type": "markdown",
      "metadata": {
        "id": "6O37hTXpQhcu"
      },
      "source": [
        "#Next Sample Code\n",
        "\n",
        "We try to iterate two levels down and print a list of section, classes and sub classes. "
      ]
    },
    {
      "cell_type": "code",
      "metadata": {
        "id": "wRhcVGeDopSF"
      },
      "source": [
        "from lxml import etree as ET\n",
        "import time\n",
        "\n",
        "filename = \"./EN_ipc_scheme_20210101.xml\"\n",
        "\n",
        "parser = ET.XMLParser(remove_blank_text=True)\n",
        "tree = ET.parse(filename, parser=parser)\n",
        "root = tree.getroot()\n",
        "\n",
        "ipcEntry = '{http://www.wipo.int/classifications/ipc/masterfiles}ipcEntry'\n",
        "\n",
        "def ipcParser():\n",
        "  for sections in root:    \n",
        "    print('1st level sections: ', sections.attrib['symbol'], \" kind:\", sections.attrib['kind'])    \n",
        "    \n",
        "    #go on level deeper to classes\n",
        "    for classes in sections.iterchildren(tag=ipcEntry):\n",
        "      print('2nd level classes: ', classes.attrib['symbol'], \" kind:\", classes.attrib['kind'])\n",
        "     \n",
        "      #go on level deeper to sub classes\n",
        "      for subclasses in classes.iterchildren(tag=ipcEntry):\n",
        "        print('3nd level sub classes: ', subclasses.attrib['symbol'], \" kind:\", subclasses.attrib['kind'])\n",
        "\n",
        "ipcParser()"
      ],
      "execution_count": null,
      "outputs": []
    }
  ]
}