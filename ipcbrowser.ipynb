{
  "nbformat": 4,
  "nbformat_minor": 0,
  "metadata": {
    "colab": {
      "name": "ipcbrowser.ipynb",
      "provenance": [],
      "collapsed_sections": [
        "kES1q_0TQ0qI"
      ],
      "toc_visible": true,
      "authorship_tag": "ABX9TyOUtdkH+xlLPtvDJGKt3crp",
      "include_colab_link": true
    },
    "kernelspec": {
      "name": "python3",
      "display_name": "Python 3"
    }
  },
  "cells": [
    {
      "cell_type": "markdown",
      "metadata": {
        "id": "view-in-github",
        "colab_type": "text"
      },
      "source": [
        "<a href=\"https://colab.research.google.com/github/herrkrueger/funwithipcxml/blob/main/ipcbrowser.ipynb\" target=\"_parent\"><img src=\"https://colab.research.google.com/assets/colab-badge.svg\" alt=\"Open In Colab\"/></a>"
      ]
    },
    {
      "cell_type": "markdown",
      "metadata": {
        "id": "NcmOXv9cDwrA"
      },
      "source": [
        "#Fun with IPC XML, Python xml, lxml and ElementTree\n",
        "\n",
        "###Python Quellen\n",
        "* John Shipman's tutorial on [Python XML processing with lxml](https://www.academia.edu/38587906/Python_XML_processing_with_lxml)\n",
        "* [The ElementTree API on](https://docs.python.org/3/library/xml.etree.elementtree.html) on python.org\n",
        "* Tutorials on [Real Python](https://realpython.com/)\n",
        "* [Pandas Documentation](https://pandas.pydata.org/pandas-docs/stable/index.html)\n",
        "\n",
        "###WIPO Links\n",
        "* Current Edition of IPC Master Files from [WIPO's Download and IT support area](https://www.wipo.int/classifications/ipc/en/ITsupport/), here the  [direkt link zu the zip File](https://www.wipo.int/ipc/itos4ipc/ITSupport_and_download_area//20210101/MasterFiles/ipc_scheme_images_20210101.zip)\n",
        "* Documentation and XSDs are [here](https://www.wipo.int/classifications/ipc/en/ITsupport/Version20210101/documentation/IPCfiles.html), esp. the Specification of the Scheme file [here](https://www.wipo.int/ipc/itos4ipc/ITSupport_and_download_area/Documentation/20210101/IPC_scheme_specs_v3_1.docx)\n",
        "* [Link](https://www.wipo.int/classifications/ipc/ipcpub/?notion=scheme&version=20210101&symbol=none&menulang=en&lang=en&viewmode=f&fipcpc=no&showdeleted=yes&indexes=no&headings=yes&notes=yes&direction=o2n&initial=A&cwid=none&tree=no&searchmode=smart) to the IPC Browser of WIPO\n",
        "\n",
        "\n",
        "First, we download the IPC XML from WIPO, to work with it further down the road. This is every time needed, after this machine here restarted!"
      ]
    },
    {
      "cell_type": "code",
      "metadata": {
        "colab": {
          "base_uri": "https://localhost:8080/"
        },
        "id": "AknoBqTbhtvo",
        "outputId": "d4f1dd89-1400-422f-f0e5-7256403fdc55"
      },
      "source": [
        "import requests, zipfile, io, os, time\n",
        "\n",
        "tic = time.perf_counter() * 1000\n",
        "\n",
        "url = 'https://www.wipo.int/ipc/itos4ipc/ITSupport_and_download_area//20210101/MasterFiles/ipc_scheme_20210101.zip'\n",
        "r = requests.get(url)\n",
        "z = zipfile.ZipFile(io.BytesIO(r.content))\n",
        "z.extractall()\n",
        "\n",
        "filename = os.listdir()[1]\n",
        "\n",
        "toc = time.perf_counter() * 1000\n",
        "\n",
        "print('downloaded and unzipped', filename, f'in: {(toc - tic):0.0f} ms')"
      ],
      "execution_count": 1,
      "outputs": [
        {
          "output_type": "stream",
          "text": [
            "downloaded and unzipped FR_ipc_scheme_20210101.xml in: 3621 ms\n"
          ],
          "name": "stdout"
        }
      ]
    },
    {
      "cell_type": "markdown",
      "metadata": {
        "id": "TUxWPJGqSnPE"
      },
      "source": [
        "\n",
        "#First Sample Code"
      ]
    },
    {
      "cell_type": "markdown",
      "metadata": {
        "id": "LuGcPR_EJA7F"
      },
      "source": [
        "First, we just import lxml and get the file (manual download, put it here next to the sample data) and access it, print the upper level elements tags and the attribut dictonary. These are the sections of the IPC Tree. The attributes contain: 'kind' and 'symbol' and 'entryTpe'."
      ]
    },
    {
      "cell_type": "code",
      "metadata": {
        "colab": {
          "base_uri": "https://localhost:8080/"
        },
        "id": "mUNPOSO-GaQ3",
        "outputId": "648e2946-f358-48ca-ff52-9f4ca16ba58e"
      },
      "source": [
        "from lxml import etree as ET\n",
        "\n",
        "filename = \"./EN_ipc_scheme_20210101.xml\"\n",
        "parser = ET.XMLParser(remove_blank_text=True)\n",
        "tree = ET.parse(filename, parser=parser)\n",
        "root = tree.getroot()\n",
        "\n",
        "for child in root:\n",
        "    print(child.tag, child.attrib)\n"
      ],
      "execution_count": null,
      "outputs": [
        {
          "output_type": "stream",
          "text": [
            "{http://www.wipo.int/classifications/ipc/masterfiles}ipcEntry {'kind': 's', 'symbol': 'A', 'entryType': 'K'}\n",
            "{http://www.wipo.int/classifications/ipc/masterfiles}ipcEntry {'kind': 's', 'symbol': 'B', 'entryType': 'K'}\n",
            "{http://www.wipo.int/classifications/ipc/masterfiles}ipcEntry {'kind': 's', 'symbol': 'C', 'entryType': 'K'}\n",
            "{http://www.wipo.int/classifications/ipc/masterfiles}ipcEntry {'kind': 's', 'symbol': 'D', 'entryType': 'K'}\n",
            "{http://www.wipo.int/classifications/ipc/masterfiles}ipcEntry {'kind': 's', 'symbol': 'E', 'entryType': 'K'}\n",
            "{http://www.wipo.int/classifications/ipc/masterfiles}ipcEntry {'kind': 's', 'symbol': 'F', 'entryType': 'K'}\n",
            "{http://www.wipo.int/classifications/ipc/masterfiles}ipcEntry {'kind': 's', 'symbol': 'G', 'entryType': 'K'}\n",
            "{http://www.wipo.int/classifications/ipc/masterfiles}ipcEntry {'kind': 's', 'symbol': 'H', 'entryType': 'K'}\n"
          ],
          "name": "stdout"
        }
      ]
    },
    {
      "cell_type": "markdown",
      "metadata": {
        "id": "ae7L55xD0kwu"
      },
      "source": [
        "just a different, shorter way of doing this stuff"
      ]
    },
    {
      "cell_type": "code",
      "metadata": {
        "colab": {
          "base_uri": "https://localhost:8080/"
        },
        "id": "YrLn37y8xT-Y",
        "outputId": "1ad80fae-e1be-4521-98eb-9b8e391b7166"
      },
      "source": [
        "import xml.etree.ElementTree as ET\n",
        "root = ET.parse(\"./EN_ipc_scheme_20210101.xml\").getroot()\n",
        "\n",
        "for sections in root:\n",
        "   print(sections.tag, sections.attrib)"
      ],
      "execution_count": null,
      "outputs": [
        {
          "output_type": "stream",
          "text": [
            "{http://www.wipo.int/classifications/ipc/masterfiles}ipcEntry {'kind': 's', 'symbol': 'A', 'entryType': 'K'}\n",
            "{http://www.wipo.int/classifications/ipc/masterfiles}ipcEntry {'kind': 's', 'symbol': 'B', 'entryType': 'K'}\n",
            "{http://www.wipo.int/classifications/ipc/masterfiles}ipcEntry {'kind': 's', 'symbol': 'C', 'entryType': 'K'}\n",
            "{http://www.wipo.int/classifications/ipc/masterfiles}ipcEntry {'kind': 's', 'symbol': 'D', 'entryType': 'K'}\n",
            "{http://www.wipo.int/classifications/ipc/masterfiles}ipcEntry {'kind': 's', 'symbol': 'E', 'entryType': 'K'}\n",
            "{http://www.wipo.int/classifications/ipc/masterfiles}ipcEntry {'kind': 's', 'symbol': 'F', 'entryType': 'K'}\n",
            "{http://www.wipo.int/classifications/ipc/masterfiles}ipcEntry {'kind': 's', 'symbol': 'G', 'entryType': 'K'}\n",
            "{http://www.wipo.int/classifications/ipc/masterfiles}ipcEntry {'kind': 's', 'symbol': 'H', 'entryType': 'K'}\n"
          ],
          "name": "stdout"
        }
      ]
    },
    {
      "cell_type": "markdown",
      "metadata": {
        "id": "kES1q_0TQ0qI"
      },
      "source": [
        "#What do we see? \n",
        "\n",
        "The **tag** (including the xmlns - NameSpace, that this entry belongs. There is only one ns in the XML btw.) and the **attributes**, obviously, and the **atributes** you can see in the next text box.\n"
      ]
    },
    {
      "cell_type": "markdown",
      "metadata": {
        "id": "4c2JP2HLGZUG"
      },
      "source": [
        "##Atributes\n",
        "###'kind' with its Values:\n",
        "* s = section\n",
        "* t = sub-section title\n",
        "* c = class\n",
        "* i = sub-class index\n",
        "* u = sub-class\n",
        "* g = guidance heading\n",
        "  m = main group\n",
        "* 1 to B = 11 levels of group (hexadecimal notation)\n",
        "* n = note\n",
        "\n",
        "###'symbol' with its Values:\n",
        "\n",
        "###The IPC Symbol! Thats the thing... \n",
        "\n",
        "###'entryType' with its Values:\n",
        "* K = classification symbol (default, i.e. for classification purpose only)\n",
        "* I = Indexing symbol  (i.e. for indexing purpose only)\n",
        "* D = Double purpose classification symbol (i.e. for both classification and indexing purpose) – existed only prior to the IPC reform\n",
        "* Z = problematic entry (i.e. structure and/or contents have been partially converted from CPC or FI)\n",
        "Interesting for us, are only entryType 'K'"
      ]
    },
    {
      "cell_type": "markdown",
      "metadata": {
        "id": "_gVTQ_VZPCjb"
      },
      "source": [
        "##Dictionaries for kind level and title of level\n",
        "```\n",
        "kind_to_level = {\n",
        "  's':1,\n",
        "  'c':2,\n",
        "  'u':3,\n",
        "  'g':4,\n",
        "  'm':4,\n",
        "  '1':5,\n",
        "  '2':6,\n",
        "  '3':7,\n",
        "  '4':8,\n",
        "  '5':9,\n",
        "  '6':10,\n",
        "  '7':11,\n",
        "  '8':12,\n",
        "  '9':13,\n",
        "  'A':14,\n",
        "  'B':15}\n",
        "\n",
        "kind_to_levelTitle = {\n",
        "  's':'section',\n",
        "  't':'sub-section title',\n",
        "  'c':'class',\n",
        "  'I':'sub-class index',\n",
        "  'u':'sub-class',\n",
        "  'g':'guidance heading',\n",
        "  'm':'main group',\n",
        "  '1':'.subgroup',\n",
        "  '2':'..subgroup',\n",
        "  '3':'...subgroup',\n",
        "  '4':'....subgroup',\n",
        "  '5':'.....subgroup',\n",
        "  '6':'......subgroup',\n",
        "  '7':'.......subgroup',\n",
        "  '8':'........subgroup',\n",
        "  '9':'.........subgroup',\n",
        "  'A':'..........subgroup',\n",
        "  'B':'...........subgroup',\n",
        "  'n':'note'}\n",
        "```"
      ]
    },
    {
      "cell_type": "markdown",
      "metadata": {
        "id": "qUZiy1K9yw4k"
      },
      "source": [
        "##here the list for all the interesing entries in our IPC XML\n",
        "\n",
        "```\n",
        "whatlevel = [\"s\",\"c\",\"u\",\"m\",\"1\",\"2\",\"3\",\"4\",\"5\",\"6\",\"7\",\"8\",\"9\",\"A\",\"B\"]\n",
        "```\n",
        "\n"
      ]
    },
    {
      "cell_type": "markdown",
      "metadata": {
        "id": "6O37hTXpQhcu"
      },
      "source": [
        "#Next Sample Code\n",
        "\n",
        "Now we use lxml again and try to iterate two levels down and print a list of section, classes and sub classes. "
      ]
    },
    {
      "cell_type": "code",
      "metadata": {
        "id": "wRhcVGeDopSF"
      },
      "source": [
        "from lxml import etree as ET\n",
        "\n",
        "filename = \"./EN_ipc_scheme_20210101.xml\"\n",
        "parser = ET.XMLParser(remove_blank_text=True)\n",
        "tree = ET.parse(filename, parser=parser)\n",
        "root = tree.getroot()\n",
        "\n",
        "ipcEntry = '{http://www.wipo.int/classifications/ipc/masterfiles}ipcEntry'\n",
        "\n",
        "for sections in root:    \n",
        "    print('1st level sections: ', sections.attrib['symbol'], \" kind:\", sections.attrib['kind'])    \n",
        "    \n",
        "    #go one level deeper to classes\n",
        "    for classes in sections.iterchildren(tag=ipcEntry):\n",
        "      print('2nd level classes: ', classes.attrib['symbol'], \" kind:\", classes.attrib['kind'])\n",
        "     \n",
        "      #go one level deeper to sub classes\n",
        "      for subclasses in classes.iterchildren(tag=ipcEntry):\n",
        "        print('3nd level sub classes: ', subclasses.attrib['symbol'], \" kind:\", subclasses.attrib['kind'])"
      ],
      "execution_count": null,
      "outputs": []
    },
    {
      "cell_type": "markdown",
      "metadata": {
        "id": "kLQfkHXCt9QF"
      },
      "source": [
        "now we learn python and find others ways, to iterate over all children, checking with if for specific 'kind' of entries. "
      ]
    },
    {
      "cell_type": "code",
      "metadata": {
        "colab": {
          "base_uri": "https://localhost:8080/"
        },
        "id": "HcZvIbymuWrr",
        "outputId": "f89b085c-83aa-465d-fba5-5f4dd8f3fb39"
      },
      "source": [
        "from lxml import etree as ET\n",
        "import time\n",
        "\n",
        "filename = \"./EN_ipc_scheme_20210101.xml\"\n",
        "\n",
        "parser = ET.XMLParser(remove_blank_text=True)\n",
        "tree = ET.parse(filename, parser=parser)\n",
        "root = tree.getroot()\n",
        "\n",
        "ipcEntry = '{http://www.wipo.int/classifications/ipc/masterfiles}ipcEntry'\n",
        "count = 0\n",
        "start = time.time()\n",
        "\n",
        "whatlevel = \"1\"\n",
        "\n",
        "for element in root.iter(ipcEntry):\n",
        "  if element.attrib['kind'] == whatlevel:\n",
        "    count = count + 1\n",
        "    #print(count, element.attrib['symbol'])\n",
        "\n",
        "print(\"for kind\", element, \"found\", count, 'entries in:', time.time() - start, 'sec')\n",
        "\n"
      ],
      "execution_count": 4,
      "outputs": [
        {
          "output_type": "stream",
          "text": [
            "for kind <Element {http://www.wipo.int/classifications/ipc/masterfiles}ipcEntry at 0x7f68db963690> found 23390 entries in: 0.06341743469238281 sec\n"
          ],
          "name": "stdout"
        }
      ]
    },
    {
      "cell_type": "markdown",
      "metadata": {
        "id": "BUhvOHPSsW0v"
      },
      "source": [
        "Now with a tuple of all the \"kind\" of entries i want to check... "
      ]
    },
    {
      "cell_type": "code",
      "metadata": {
        "colab": {
          "base_uri": "https://localhost:8080/"
        },
        "id": "n3clEzy_sZQS",
        "outputId": "f25a2bbd-86a7-4b79-a816-95094b11807a"
      },
      "source": [
        "from lxml import etree as ET\n",
        "import time\n",
        "\n",
        "filename = \"./EN_ipc_scheme_20210101.xml\"\n",
        "\n",
        "parser = ET.XMLParser(remove_blank_text=True)\n",
        "tree = ET.parse(filename, parser=parser)\n",
        "root = tree.getroot()\n",
        "\n",
        "ipcEntry = '{http://www.wipo.int/classifications/ipc/masterfiles}ipcEntry'\n",
        "count = 0\n",
        "\n",
        "whatlevel = (\"s\",\"c\",\"u\",\"m\",\"1\",\"2\",\"3\",\"4\",\"5\",\"6\",\"7\",\"8\",\"9\",\"A\",\"B\")\n",
        "\n",
        "for level in whatlevel:\n",
        "  \n",
        "  tic = time.perf_counter() * 1000\n",
        "\n",
        "  for element in root.iter(ipcEntry):\n",
        "    if element.attrib['kind'] == level:\n",
        "      count = count + 1\n",
        "      #print(count, element.attrib['symbol'])\n",
        "  \n",
        "  toc = time.perf_counter() * 1000\n",
        "\n",
        "  print(\"for kind\", level, \"found \", count, f\"entries in: {(toc - tic):0.0f} ms\")\n",
        "  \n",
        "  count = 0\n"
      ],
      "execution_count": null,
      "outputs": [
        {
          "output_type": "stream",
          "text": [
            "for kind s found  8 entries in: 146 ms\n",
            "for kind c found  131 entries in: 58 ms\n",
            "for kind u found  646 entries in: 61 ms\n",
            "for kind m found  7523 entries in: 66 ms\n",
            "for kind 1 found  23390 entries in: 66 ms\n",
            "for kind 2 found  23048 entries in: 61 ms\n",
            "for kind 3 found  13661 entries in: 60 ms\n",
            "for kind 4 found  5934 entries in: 62 ms\n",
            "for kind 5 found  1987 entries in: 61 ms\n",
            "for kind 6 found  638 entries in: 62 ms\n",
            "for kind 7 found  155 entries in: 60 ms\n",
            "for kind 8 found  68 entries in: 59 ms\n",
            "for kind 9 found  10 entries in: 59 ms\n",
            "for kind A found  4 entries in: 68 ms\n",
            "for kind B found  4 entries in: 57 ms\n"
          ],
          "name": "stdout"
        }
      ]
    },
    {
      "cell_type": "markdown",
      "metadata": {
        "id": "gmBivZBp4-iS"
      },
      "source": [
        "now with a dictonary"
      ]
    },
    {
      "cell_type": "code",
      "metadata": {
        "colab": {
          "base_uri": "https://localhost:8080/"
        },
        "id": "hWm_dXtC5DgV",
        "outputId": "5638f380-7092-49d5-87de-fb5f5ce5364a"
      },
      "source": [
        "from lxml import etree as ET\n",
        "import time\n",
        "\n",
        "filename = \"./EN_ipc_scheme_20210101.xml\"\n",
        "\n",
        "parser = ET.XMLParser(remove_blank_text=True)\n",
        "tree = ET.parse(filename, parser=parser)\n",
        "root = tree.getroot()\n",
        "\n",
        "ipcEntry = '{http://www.wipo.int/classifications/ipc/masterfiles}ipcEntry'\n",
        "\n",
        "whatlevel = {\n",
        "  's':'section',\n",
        "  't':'sub-section title',\n",
        "  'c':'class',\n",
        "  'I':'sub-class index',\n",
        "  'u':'sub-class',\n",
        "  'g':'guidance heading',\n",
        "  'm':'main group',\n",
        "  '1':'.subgroup',\n",
        "  '2':'..subgroup',\n",
        "  '3':'...subgroup',\n",
        "  '4':'....subgroup',\n",
        "  '5':'.....subgroup',\n",
        "  '6':'......subgroup',\n",
        "  '7':'.......subgroup',\n",
        "  '8':'........subgroup',\n",
        "  '9':'.........subgroup',\n",
        "  'A':'..........subgroup',\n",
        "  'B':'...........subgroup',\n",
        "  'n':'note'}\n",
        "\n",
        "for level in whatlevel.keys():\n",
        "  \n",
        "  count = 0\n",
        "  start = time.time()\n",
        "\n",
        "  for element in root.iter(ipcEntry):\n",
        "    if element.attrib['kind'] == level:\n",
        "      count = count + 1\n",
        "      #print(count, element.attrib['symbol'])\n",
        "  print(\"for kind \", whatlevel[level], \"found \", count, f'entries (in: {(time.time() - start) * 1000:0.0f} ms)')\n",
        "  \n",
        "  count = 0\n",
        "  start = time.time()\n",
        "  "
      ],
      "execution_count": 5,
      "outputs": [
        {
          "output_type": "stream",
          "text": [
            "for kind  section found  8 entries (in: 148 ms)\n",
            "for kind  sub-section title found  20 entries (in: 62 ms)\n",
            "for kind  class found  131 entries (in: 66 ms)\n",
            "for kind  sub-class index found  0 entries (in: 63 ms)\n",
            "for kind  sub-class found  646 entries (in: 66 ms)\n",
            "for kind  guidance heading found  547 entries (in: 63 ms)\n",
            "for kind  main group found  7523 entries (in: 64 ms)\n",
            "for kind  .subgroup found  23390 entries (in: 63 ms)\n",
            "for kind  ..subgroup found  23048 entries (in: 68 ms)\n",
            "for kind  ...subgroup found  13661 entries (in: 62 ms)\n",
            "for kind  ....subgroup found  5934 entries (in: 60 ms)\n",
            "for kind  .....subgroup found  1987 entries (in: 65 ms)\n",
            "for kind  ......subgroup found  638 entries (in: 66 ms)\n",
            "for kind  .......subgroup found  155 entries (in: 61 ms)\n",
            "for kind  ........subgroup found  68 entries (in: 60 ms)\n",
            "for kind  .........subgroup found  10 entries (in: 60 ms)\n",
            "for kind  ..........subgroup found  4 entries (in: 73 ms)\n",
            "for kind  ...........subgroup found  4 entries (in: 66 ms)\n",
            "for kind  note found  959 entries (in: 72 ms)\n"
          ],
          "name": "stdout"
        }
      ]
    },
    {
      "cell_type": "code",
      "metadata": {
        "id": "FUuag4AWLVR-",
        "colab": {
          "base_uri": "https://localhost:8080/"
        },
        "outputId": "9311451d-d929-4693-8e3e-9263b88c38fa"
      },
      "source": [
        "from lxml import etree as ET\n",
        "import time\n",
        "\n",
        "filename = \"./EN_ipc_scheme_20210101.xml\"\n",
        "\n",
        "parser = ET.XMLParser(remove_blank_text=True)\n",
        "tree = ET.parse(filename, parser=parser)\n",
        "root = tree.getroot()\n",
        "\n",
        "ipcEntry = '{http://www.wipo.int/classifications/ipc/masterfiles}ipcEntry'\n",
        "\n",
        "whatLevel = [\"s\",\"c\",\"u\",\"m\",\"1\",\"2\",\"3\",\"4\",\"5\",\"6\",\"7\",\"8\",\"9\",\"A\",\"B\"]\n",
        "\n",
        "tic = time.perf_counter() * 1000\n",
        "def iterDurchsXML(level):\n",
        "  count = 0\n",
        "  for element in root.iter(ipcEntry):\n",
        "    if element.attrib['kind'] == level:\n",
        "      count = count + 1\n",
        "      #print(count, element.attrib['symbol'])\n",
        "  \n",
        "  print(\"for kind\", level, \"found \", count)\n",
        "  \n",
        "for level in whatLevel: \n",
        "  iterDurchsXML(level)\n",
        "\n",
        "toc = time.perf_counter() * 1000\n",
        "\n",
        "print(\"time needed:\", f\"entries in: {(toc - tic):0.0f} ms\")"
      ],
      "execution_count": 6,
      "outputs": [
        {
          "output_type": "stream",
          "text": [
            "for kind s found  8\n",
            "for kind c found  131\n",
            "for kind u found  646\n",
            "for kind m found  7523\n",
            "for kind 1 found  23390\n",
            "for kind 2 found  23048\n",
            "for kind 3 found  13661\n",
            "for kind 4 found  5934\n",
            "for kind 5 found  1987\n",
            "for kind 6 found  638\n",
            "for kind 7 found  155\n",
            "for kind 8 found  68\n",
            "for kind 9 found  10\n",
            "for kind A found  4\n",
            "for kind B found  4\n",
            "time needed: entries in: 882 ms\n"
          ],
          "name": "stdout"
        }
      ]
    },
    {
      "cell_type": "markdown",
      "metadata": {
        "id": "fKeeuTVdLQhC"
      },
      "source": [
        "#Sample with a recursive function\n",
        "\n",
        "Instead of iter through the whole, we recursively go through the children of each entry. much more fun!\n",
        "\n",
        "\n",
        "\n"
      ]
    },
    {
      "cell_type": "code",
      "metadata": {
        "colab": {
          "base_uri": "https://localhost:8080/"
        },
        "id": "FejsEjVJWFwZ",
        "outputId": "20206ea5-144d-42f6-b8af-fde631684c17"
      },
      "source": [
        "from lxml import etree as ET\n",
        "import time\n",
        "\n",
        "filename = \"./EN_ipc_scheme_20210101.xml\"\n",
        "\n",
        "parser = ET.XMLParser(remove_blank_text=True)\n",
        "tree = ET.parse(filename, parser=parser)\n",
        "root = tree.getroot()\n",
        "\n",
        "whatLevel = [\"s\",\"c\",\"u\",\"m\",\"1\",\"2\",\"3\",\"4\",\"5\",\"6\",\"7\",\"8\",\"9\",\"A\",\"B\"]\n",
        "\n",
        "### here is my recursive function\n",
        "\n",
        "tic = time.perf_counter() * 1000\n",
        "list = [0,0,0]\n",
        "\n",
        "def recWalker(node, list, kind):\n",
        "  for child in node:\n",
        "    list[0] += 1\n",
        "    if not child.attrib == {}:\n",
        "      list[1] += 1\n",
        "      attrib = child.attrib['kind']\n",
        "      if attrib == kind:\n",
        "        list[2] += 1\n",
        "        print(\"kind\", attrib, list)\n",
        "      #here I call the function within the function! thats makes it recursive!\n",
        "      recWalker(child, list, kind)\n",
        "\n",
        "# this ist the first call of the function\n",
        "# argument is the xml, a empty list and the \"kind\" of entries, i want to find.\n",
        "recWalker(root, list, \"A\")\n",
        "\n",
        "toc = time.perf_counter() * 1000\n",
        "\n",
        "print(f'time needed: {(toc - tic):0.0f} ms')"
      ],
      "execution_count": null,
      "outputs": [
        {
          "output_type": "stream",
          "text": [
            "kind A [144005, 72003, 1]\n",
            "kind A [144015, 72008, 2]\n",
            "kind A [144023, 72012, 3]\n",
            "kind A [144045, 72023, 4]\n",
            "time needed: 272 ms\n"
          ],
          "name": "stdout"
        }
      ]
    },
    {
      "cell_type": "markdown",
      "metadata": {
        "id": "dtATWUorhgGI"
      },
      "source": [
        "#Next Idea: minidom\n",
        "\n",
        "Use a different module, here xml.dom.minidom\n",
        "\n",
        "* as described [here](https://docs.python.org/3/library/xml.dom.minidom.html#module-xml.dom.minidom) at python.org\n",
        "* and the DOM [here]((https://www.w3.org/TR/REC-DOM-Level-1/level-one-core.html)) at w3c.org\n",
        "\n",
        "Interesting functions would access Node with parentNode, childNodes, firstChild, lastChild, previousSibling and nextSibling and their content and attributes. \n",
        "\n",
        "loading very slow! but after loading access to the entries are fast. "
      ]
    },
    {
      "cell_type": "code",
      "metadata": {
        "id": "pUFm6-_RhkJB"
      },
      "source": [
        "import xml.dom.minidom\n",
        "#the module used for parsing the xml file is imported\n",
        "\n",
        "xml_file = './EN_ipc_scheme_20210101.xml'\n",
        "tag_name = 'ipcEntry'\n",
        "attr_name = 'symbol'\n",
        "\n",
        "#This function is declared with three arguements namely the xml file to be parsed, the tag name and the attribute name and it does the magic\n",
        "def generic_dom(xml_file,tag_name,attr_name):\n",
        "  doc = xml.dom.minidom.parse(xml_file)\n",
        "  tags = doc.getElementsByTagName(tag_name)\n",
        "  for any_attr in tags:\n",
        "    attr = any_attr.getAttribute(attr_name)\n",
        "    print(attr)\n",
        "  \n",
        "generic_dom(xml_file,tag_name,attr_name)"
      ],
      "execution_count": null,
      "outputs": []
    },
    {
      "cell_type": "markdown",
      "metadata": {
        "id": "ynWpugYSAUrc"
      },
      "source": [
        "# Next Sample with recursive function and a XPath Call"
      ]
    },
    {
      "cell_type": "code",
      "metadata": {
        "id": "e3g3xHwHAYt0",
        "colab": {
          "base_uri": "https://localhost:8080/"
        },
        "outputId": "0439ec6d-56bb-46a6-fe69-754f598dee4b"
      },
      "source": [
        "from lxml import etree as ET\n",
        "import time\n",
        "\n",
        "filename = \"./EN_ipc_scheme_20210101.xml\"\n",
        "\n",
        "parser = ET.XMLParser(remove_blank_text=True)\n",
        "tree = ET.parse(filename, parser=parser)\n",
        "root = tree.getroot()\n",
        "\n",
        "whatLevel = [\"s\",\"c\",\"u\",\"m\",\"1\",\"2\",\"3\",\"4\",\"5\",\"6\",\"7\",\"8\",\"9\",\"A\",\"B\"]\n",
        "\n",
        "### here is my recursive function\n",
        "\n",
        "tic = time.perf_counter() * 1000\n",
        "list = [0,0,0]\n",
        "\n",
        "def recWalker(node, list, kind):\n",
        "  for child in node:\n",
        "    list[0] += 1\n",
        "    if not child.attrib == {}:\n",
        "      list[1] += 1\n",
        "      attrib = child.attrib['kind']\n",
        "      if attrib == kind:\n",
        "        list[2] += 1\n",
        "        alltext = child.xpath('descendant-or-self::text()')\n",
        "        print(\"kind\", attrib, list)\n",
        "        print(alltext[0])\n",
        "      #here I call the function within the function! thats makes it recursive!\n",
        "      recWalker(child, list, kind)\n",
        "\n",
        "# this ist the first call of the function\n",
        "# argument is the xml, a empty list and the \"kind\" of entries, i want to find.\n",
        "recWalker(root, list, \"9\")\n",
        "\n",
        "toc = time.perf_counter() * 1000\n",
        "\n",
        "print(f'time needed: {(toc - tic):0.0f} ms')"
      ],
      "execution_count": 2,
      "outputs": [
        {
          "output_type": "stream",
          "text": [
            "kind 9 [135193, 67597, 1]\n",
            "the data current flowing through the driving transistor during a setting phase, e.g. by using a switch for connecting the driving transistor to the data driver\n",
            "kind 9 [143757, 71879, 2]\n",
            "Dynamic random access memory structures (DRAM)\n",
            "kind 9 [143759, 71880, 3]\n",
            "Static random access memory structures (SRAM)\n",
            "kind 9 [143761, 71881, 4]\n",
            "Read-only memory structures (ROM)\n",
            "kind 9 [143997, 71999, 5]\n",
            "with cell select transistors, e.g. NAND\n",
            "kind 9 [144001, 72001, 6]\n",
            "of memory regions comprising cell select transistors, e.g. NAND\n",
            "kind 9 [144003, 72002, 7]\n",
            "Simultaneous manufacturing of periphery and memory cells\n",
            "kind 9 [144021, 72011, 8]\n",
            "with source and drain on different levels, e.g. with sloping channels\n",
            "kind 9 [144035, 72018, 9]\n",
            "with cell select transistors, e.g. NAND\n",
            "kind 9 [144043, 72022, 10]\n",
            "with source and drain on different levels, e.g. with sloping channels\n",
            "time needed: 292 ms\n"
          ],
          "name": "stdout"
        }
      ]
    },
    {
      "cell_type": "markdown",
      "metadata": {
        "id": "UJdwBg6VhyHe"
      },
      "source": [
        "# Dictionary Approach\n",
        "So, letz see, if I can reate a dictionary with almost all the content of the IPC XML.\n",
        "\n",
        "letz have a look at one entry\n",
        "\n",
        "now start thinking, how to extract the values in a nice way\n",
        "\n",
        "* each ipcEntry has attributes\n",
        "  * each ipcEntry has kind = 1...16\n",
        "  * each ipcEntry has its symbol\n",
        "  * each ipcEntry has a type\n",
        "\n",
        "* each ipcEntry has one parent and one to many children\n",
        "  * each ipcEntry has one parent ipcEntry, except for the first, upper 8 ipcEntries (remember its a hierarchical tree).\n",
        "  * each ipcEntry has one or many child ipcEntries\n",
        "\n",
        "\n",
        "* each ipcEntry has a textBody\n",
        "  * each textBody has a title\n",
        "    * each title has one or many titlePart\n",
        "      * each titlePart has one text\n",
        "      * each titlePart has one or many entryReference with a sref to another symbol\n",
        "\n",
        "here an example\n",
        "```\n",
        "<ipcEntry kind=\"u\" symbol=\"A01B\" entryType=\"K\">\n",
        "  <textBody>\n",
        "    <title>\n",
        "      <titlePart>\n",
        "         <text>SOIL WORKING IN AGRICULTURE OR FORESTRY</text>\n",
        "      </titlePart>\n",
        "      <titlePart>\n",
        "        <text>PARTS, DETAILS, OR ACCESSORIES OF AGRICULTURAL MACHINES OR IMPLEMENTS, IN GENERAL</text>\n",
        "           <entryReference>making or covering furrows or holes for sowing, planting or manuring <sref ref=\"A01C0005000000\"/>\n",
        "           </entryReference>\n",
        "           <entryReference>machines for harvesting root crops <sref ref=\"A01D\"/>\n",
        "           </entryReference>\n",
        "           <entryReference>mowers convertible to soil working apparatus or capable of soil working <sref ref=\"A01D0042040000\"/>\n",
        "           </entryReference>\n",
        "           <entryReference>mowers combined with soil working implements <sref ref=\"A01D0043120000\"/>\n",
        "           </entryReference>\n",
        "           <entryReference>soil working for engineering purposes <sref ref=\"E01\"/>,<sref ref=\"E02\"/>,<sref ref=\"E21\"/>\n",
        "           </entryReference>\n",
        "        </titlePart>\n",
        "      </title>\n",
        "    </textBody>\n",
        "```\n"
      ]
    },
    {
      "cell_type": "code",
      "metadata": {
        "id": "IL79go9ih68u",
        "outputId": "b79860ca-9d79-4666-af8b-1bd5cbbc28bc",
        "colab": {
          "base_uri": "https://localhost:8080/"
        }
      },
      "source": [
        "from lxml import etree as ET\n",
        "import time\n",
        "\n",
        "filename = \"./EN_ipc_scheme_20210101.xml\"\n",
        "\n",
        "parser = ET.XMLParser(remove_blank_text=True)\n",
        "tree = ET.parse(filename, parser=parser)\n",
        "root = tree.getroot()\n",
        "\n",
        "ipcEntry = '{http://www.wipo.int/classifications/ipc/masterfiles}ipcEntry'\n",
        "ipcXML = {}\n",
        "\n",
        "tic = time.perf_counter() * 1000\n",
        "count = 0\n",
        "\n",
        "for element in root.iter(ipcEntry):\n",
        "  if not element.attrib == {}:\n",
        "    count = count + 1\n",
        "             \n",
        "    elementAttribKind   = element.attrib['kind']\n",
        "    elementAttribSymbol = element.attrib['symbol']\n",
        "    \n",
        "    elementAttribType   = element.attrib['entryType']\n",
        "\n",
        "    elementText = element.xpath('descendant-or-self::text()')\n",
        "    elementText = elementText[0]\n",
        "    if count < 100:\n",
        "      print(count, elementAttribKind, elementAttribType, elementAttribSymbol, elementText)\n",
        "      \n",
        "toc = time.perf_counter() * 1000\n",
        "\n",
        "print(\"time needed:\", f\"entries in: {(toc - tic):0.0f} ms\")"
      ],
      "execution_count": 2,
      "outputs": [
        {
          "output_type": "stream",
          "text": [
            "1 s K A HUMAN NECESSITIES\n",
            "2 t K A01 AGRICULTURE\n",
            "3 c K A01 AGRICULTURE\n",
            "4 u K A01B SOIL WORKING IN AGRICULTURE OR FORESTRY\n",
            "5 i K A01B HAND TOOLS \n",
            "6 m K A01B0001000000 Hand tools\n",
            "7 1 K A01B0001020000 Spades\n",
            "8 2 K A01B0001040000 with teeth\n",
            "9 1 K A01B0001060000 Hoes\n",
            "10 2 K A01B0001080000 with a single blade\n",
            "11 2 K A01B0001100000 with two or more blades\n",
            "12 2 K A01B0001120000 with blades provided with teeth\n",
            "13 2 K A01B0001140000 with teeth only\n",
            "14 1 K A01B0001160000 Tools for uprooting weeds\n",
            "15 2 K A01B0001180000 Tong-like tools\n",
            "16 1 K A01B0001200000 Combinations of different kinds of hand tools\n",
            "17 1 K A01B0001220000 Attaching the blades or the like to handles\n",
            "18 1 K A01B0001240000 for treating meadows or lawns\n",
            "19 g K A01B0003000000 Ploughs\n",
            "20 m K A01B0003000000 Ploughs with fixed plough-shares\n",
            "21 1 K A01B0003020000 Man-driven ploughs\n",
            "22 1 K A01B0003040000 Animal-drawn ploughs\n",
            "23 2 K A01B0003060000 without alternating possibility, i.e. incapable of making an adjacent furrow on return journey\n",
            "24 3 K A01B0003080000 Swing ploughs\n",
            "25 3 K A01B0003100000 Trussed-beam ploughs\n",
            "26 3 K A01B0003120000 Two-wheel beam ploughs\n",
            "27 3 K A01B0003140000 Frame ploughs\n",
            "28 2 K A01B0003160000 Alternating ploughs, i.e. capable of making an adjacent furrow on return journey\n",
            "29 3 K A01B0003180000 Turn-wrest ploughs\n",
            "30 3 K A01B0003200000 Balance ploughs\n",
            "31 3 K A01B0003220000 with parallel plough units used alternately\n",
            "32 1 K A01B0003240000 Tractor-drawn ploughs\n",
            "33 2 K A01B0003260000 without alternating possibility\n",
            "34 2 K A01B0003280000 Alternating ploughs\n",
            "35 3 K A01B0003300000 Turn-wrest ploughs\n",
            "36 3 K A01B0003320000 Balance ploughs\n",
            "37 3 K A01B0003340000 with parallel plough units used alternately\n",
            "38 1 K A01B0003360000 Ploughs mounted on tractors\n",
            "39 2 K A01B0003380000 without alternating possibility\n",
            "40 2 K A01B0003400000 Alternating ploughs\n",
            "41 3 K A01B0003420000 Turn-wrest ploughs\n",
            "42 4 K A01B0003421000 with a headstock frame made in one piece\n",
            "43 4 K A01B0003426000 with a headstock frame made of two or more parts\n",
            "44 3 K A01B0003440000 with parallel plough units used alternately\n",
            "45 1 K A01B0003460000 Ploughs supported partly by tractor and partly by their own wheels\n",
            "46 1 K A01B0003500000 Self-propelled ploughs\n",
            "47 2 K A01B0003520000 with three or more wheels, or endless tracks\n",
            "48 3 K A01B0003540000 without alternating possibility\n",
            "49 3 K A01B0003560000 Alternating ploughs\n",
            "50 2 K A01B0003580000 with two wheels\n",
            "51 3 K A01B0003600000 Alternating ploughs\n",
            "52 4 K A01B0003620000 Balance ploughs\n",
            "53 1 K A01B0003640000 Cable ploughs\n",
            "54 2 K A01B0003660000 with motor-driven winding apparatus mounted on the plough\n",
            "55 2 K A01B0003680000 Cable systems with one or two engines\n",
            "56 3 K A01B0003700000 Systems with one engine for working uphill\n",
            "57 2 K A01B0003720000 Means for anchoring the cables\n",
            "58 1 K A01B0003740000 Use of electric power for propelling ploughs\n",
            "59 m K A01B0005000000 Ploughs with rolling non-driven tools, e.g. discs\n",
            "60 1 K A01B0005020000 drawn by animals\n",
            "61 1 K A01B0005040000 drawn by tractors\n",
            "62 2 K A01B0005060000 without alternating possibility\n",
            "63 2 K A01B0005080000 Alternating ploughs\n",
            "64 1 K A01B0005100000 mounted or partly-mounted on tractors\n",
            "65 2 K A01B0005120000 without alternating possibility\n",
            "66 2 K A01B0005140000 Alternating ploughs\n",
            "67 1 K A01B0005160000 Self-propelled disc or like ploughs\n",
            "68 m K A01B0007000000 Disc-like soil-working implements usable either as ploughs or as harrows, or the like\n",
            "69 m K A01B0009000000 Ploughs with rotary driven tools\n",
            "70 m K A01B0011000000 Ploughs with oscillating, digging or piercing tools\n",
            "71 m K A01B0013000000 Ploughs or like machines for special purposes\n",
            "72 1 K A01B0013020000 for making or working ridges, e.g. with symmetrically arranged mouldboards\n",
            "73 1 K A01B0013040000 for working in vineyards, orchards, or the like\n",
            "74 2 K A01B0013060000 Arrangements for preventing damage to the vines, or the like\n",
            "75 1 K A01B0013080000 for working subsoil\n",
            "76 2 K A01B0013100000 Special implements for lifting subsoil layers\n",
            "77 3 K A01B0013120000 Means for distributing the layers on the surface\n",
            "78 1 K A01B0013140000 for working soil in two or more layers\n",
            "79 1 K A01B0013160000 Machines for combating erosion, e.g. basin-diggers, furrow-dammers\n",
            "80 m K A01B0015000000 Elements, tools, or details of ploughs\n",
            "81 1 K A01B0015020000 Plough blades\n",
            "82 2 K A01B0015040000 Shares\n",
            "83 3 K A01B0015060000 Interchangeable or adjustable shares\n",
            "84 2 K A01B0015080000 Mouldboards\n",
            "85 3 K A01B0015100000 Interchangeable or adjustable mouldboards\n",
            "86 1 K A01B0015120000 Beams\n",
            "87 1 K A01B0015140000 Frames\n",
            "88 1 K A01B0015160000 Discs\n",
            "89 1 K A01B0015180000 Coulters\n",
            "90 1 K A01B0015200000 Special adjusting means for tools of ploughs drawn by, or mounted on tractors working on hillsides or slopes\n",
            "91 m K A01B0017000000 Ploughs with special additional arrangements, e.g. means for putting manure under the soil, clod-crushers\n",
            "92 g K A01B0019000000 Harrows\n",
            "93 m K A01B0019000000 Harrows with non-rotating tools\n",
            "94 1 K A01B0019020000 with tools rigidly or elastically attached to a tool-frame\n",
            "95 2 K A01B0019040000 with two or more tool-frames\n",
            "96 2 K A01B0019060000 with tools or tool-frames moved to-and-fro mechanically\n",
            "97 1 K A01B0019080000 with link network supporting tooth-like tools\n",
            "98 1 K A01B0019100000 Lifting or cleaning apparatus\n",
            "99 m K A01B0021000000 Harrows with rotary non-driven tools\n",
            "time needed: entries in: 2264 ms\n"
          ],
          "name": "stdout"
        }
      ]
    }
  ]
}