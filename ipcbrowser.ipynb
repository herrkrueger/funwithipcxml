{
  "nbformat": 4,
  "nbformat_minor": 0,
  "metadata": {
    "colab": {
      "name": "ipcbrowser.ipynb",
      "provenance": [],
      "collapsed_sections": [
        "kES1q_0TQ0qI"
      ],
      "authorship_tag": "ABX9TyPk2PhsqQ4lYA6sVA1ic4c/",
      "include_colab_link": true
    },
    "kernelspec": {
      "name": "python3",
      "display_name": "Python 3"
    }
  },
  "cells": [
    {
      "cell_type": "markdown",
      "metadata": {
        "id": "view-in-github",
        "colab_type": "text"
      },
      "source": [
        "<a href=\"https://colab.research.google.com/github/herrkrueger/funwithipcxml/blob/main/ipcbrowser.ipynb\" target=\"_parent\"><img src=\"https://colab.research.google.com/assets/colab-badge.svg\" alt=\"Open In Colab\"/></a>"
      ]
    },
    {
      "cell_type": "markdown",
      "metadata": {
        "id": "NcmOXv9cDwrA"
      },
      "source": [
        "#Fun with IPC XML, Python xml, lxml and ElementTree\n",
        "\n",
        "###Python Quellen\n",
        "* John Shipman's tutorial on [Python XML processing with lxml](https://www.academia.edu/38587906/Python_XML_processing_with_lxml)\n",
        "* [The ElementTree API on](https://docs.python.org/3/library/xml.etree.elementtree.html) on python.org\n",
        "* [Python Crash Course](https://gumroad.com/l/dcsp) on gumroad.com (10$)\n",
        "\n",
        "###WIPO Links\n",
        "* Current Edition of IPC Master Files from [WIPO's Download and IT support area](https://www.wipo.int/classifications/ipc/en/ITsupport/), here the  [direkt link zu the zip File](https://www.wipo.int/ipc/itos4ipc/ITSupport_and_download_area//20210101/MasterFiles/ipc_scheme_images_20210101.zip)\n",
        "* Documentation and XSDs are [here](https://www.wipo.int/classifications/ipc/en/ITsupport/Version20210101/documentation/IPCfiles.html), esp. the Specification of the Scheme file [here](https://www.wipo.int/ipc/itos4ipc/ITSupport_and_download_area/Documentation/20210101/IPC_scheme_specs_v3_1.docx)\n",
        "* [Link](https://www.wipo.int/classifications/ipc/ipcpub/?notion=scheme&version=20210101&symbol=none&menulang=en&lang=en&viewmode=f&fipcpc=no&showdeleted=yes&indexes=no&headings=yes&notes=yes&direction=o2n&initial=A&cwid=none&tree=no&searchmode=smart) to the IPC Browser of WIPO\n"
      ]
    },
    {
      "cell_type": "markdown",
      "metadata": {
        "id": "TUxWPJGqSnPE"
      },
      "source": [
        "#First Sample Code"
      ]
    },
    {
      "cell_type": "markdown",
      "metadata": {
        "id": "LuGcPR_EJA7F"
      },
      "source": [
        "First, we just import lxml and get the file (manual download, put it here next to the sample data) and access it, print the upper level elements tags and the attribut dictonary. These are the sections of the IPC Tree. The attributes contain: 'kind' and 'symbol' and 'entryTpe'."
      ]
    },
    {
      "cell_type": "code",
      "metadata": {
        "colab": {
          "base_uri": "https://localhost:8080/"
        },
        "id": "mUNPOSO-GaQ3",
        "outputId": "beb31158-be36-4e6c-9f92-4ec005ddd302"
      },
      "source": [
        "from lxml import etree as ET\n",
        "\n",
        "filename = \"./EN_ipc_scheme_20210101.xml\"\n",
        "parser = ET.XMLParser(remove_blank_text=True)\n",
        "tree = ET.parse(filename, parser=parser)\n",
        "root = tree.getroot()\n",
        "\n",
        "for child in root:\n",
        "    print(child.tag, child.attrib)\n"
      ],
      "execution_count": 1,
      "outputs": [
        {
          "output_type": "stream",
          "text": [
            "{http://www.wipo.int/classifications/ipc/masterfiles}ipcEntry {'kind': 's', 'symbol': 'A', 'entryType': 'K'}\n",
            "{http://www.wipo.int/classifications/ipc/masterfiles}ipcEntry {'kind': 's', 'symbol': 'B', 'entryType': 'K'}\n",
            "{http://www.wipo.int/classifications/ipc/masterfiles}ipcEntry {'kind': 's', 'symbol': 'C', 'entryType': 'K'}\n",
            "{http://www.wipo.int/classifications/ipc/masterfiles}ipcEntry {'kind': 's', 'symbol': 'D', 'entryType': 'K'}\n",
            "{http://www.wipo.int/classifications/ipc/masterfiles}ipcEntry {'kind': 's', 'symbol': 'E', 'entryType': 'K'}\n",
            "{http://www.wipo.int/classifications/ipc/masterfiles}ipcEntry {'kind': 's', 'symbol': 'F', 'entryType': 'K'}\n",
            "{http://www.wipo.int/classifications/ipc/masterfiles}ipcEntry {'kind': 's', 'symbol': 'G', 'entryType': 'K'}\n",
            "{http://www.wipo.int/classifications/ipc/masterfiles}ipcEntry {'kind': 's', 'symbol': 'H', 'entryType': 'K'}\n"
          ],
          "name": "stdout"
        }
      ]
    },
    {
      "cell_type": "markdown",
      "metadata": {
        "id": "ae7L55xD0kwu"
      },
      "source": [
        "just a different, shorter way of doing this stuff"
      ]
    },
    {
      "cell_type": "code",
      "metadata": {
        "colab": {
          "base_uri": "https://localhost:8080/"
        },
        "id": "YrLn37y8xT-Y",
        "outputId": "8f88d0bb-b8e9-4b8f-e039-259a4efa87ad"
      },
      "source": [
        "import xml.etree.ElementTree as ET\n",
        "root = ET.parse(\"./EN_ipc_scheme_20210101.xml\").getroot()\n",
        "\n",
        "for sections in root:\n",
        "   print(sections.tag, sections.attrib)"
      ],
      "execution_count": 2,
      "outputs": [
        {
          "output_type": "stream",
          "text": [
            "{http://www.wipo.int/classifications/ipc/masterfiles}ipcEntry {'kind': 's', 'symbol': 'A', 'entryType': 'K'}\n",
            "{http://www.wipo.int/classifications/ipc/masterfiles}ipcEntry {'kind': 's', 'symbol': 'B', 'entryType': 'K'}\n",
            "{http://www.wipo.int/classifications/ipc/masterfiles}ipcEntry {'kind': 's', 'symbol': 'C', 'entryType': 'K'}\n",
            "{http://www.wipo.int/classifications/ipc/masterfiles}ipcEntry {'kind': 's', 'symbol': 'D', 'entryType': 'K'}\n",
            "{http://www.wipo.int/classifications/ipc/masterfiles}ipcEntry {'kind': 's', 'symbol': 'E', 'entryType': 'K'}\n",
            "{http://www.wipo.int/classifications/ipc/masterfiles}ipcEntry {'kind': 's', 'symbol': 'F', 'entryType': 'K'}\n",
            "{http://www.wipo.int/classifications/ipc/masterfiles}ipcEntry {'kind': 's', 'symbol': 'G', 'entryType': 'K'}\n",
            "{http://www.wipo.int/classifications/ipc/masterfiles}ipcEntry {'kind': 's', 'symbol': 'H', 'entryType': 'K'}\n"
          ],
          "name": "stdout"
        }
      ]
    },
    {
      "cell_type": "markdown",
      "metadata": {
        "id": "kES1q_0TQ0qI"
      },
      "source": [
        "##What do we see? \n",
        "\n",
        "The **tag** (including the xmlns - NameSpace, that this entry belongs. There is only one ns in the XML btw.) and the **attributes**, obviously, and the **atributes** are:\n",
        "\n",
        "* 'kind' with its Values:\n",
        " * s = section\n",
        " * t = sub-section title\n",
        " * c = class\n",
        " * i = sub-class index\n",
        " * u = sub-class\n",
        " * g = guidance heading\n",
        " * m = main group\n",
        " * 1 to B = 11 levels of group (hexadecimal notation)\n",
        " * n = note\n",
        "* 'symbol' with its Values:\n",
        " * The IPC Symbol! Thats the thing... \n",
        "* 'entryType' with its Values:\n",
        " * K = classification symbol (default, i.e. for classification purpose only)\n",
        " * I = Indexing symbol  (i.e. for indexing purpose only)\n",
        " * D = Double purpose classification symbol (i.e. for both classification and indexing purpose) – existed only prior to the IPC reform\n",
        " * Z = problematic entry (i.e. structure and/or contents have been partially converted from CPC or FI)\n",
        "Interesting for us, are only entryType 'K'"
      ]
    },
    {
      "cell_type": "markdown",
      "metadata": {
        "id": "_gVTQ_VZPCjb"
      },
      "source": [
        "Dictionaries for kind level and title of level\n",
        "```\n",
        "kind_to_level = {\n",
        "  's': 1,\n",
        "  'c':2,\n",
        "  'u':3,\n",
        "  'g':4,\n",
        "  'm':4,\n",
        "  '1':5,\n",
        "  '2':6,\n",
        "  '3':7,\n",
        "  '4':8,\n",
        "  '5':9,\n",
        "  '6':10,\n",
        "  '7':11,\n",
        "  '8':12,\n",
        "  '9':13,\n",
        "  'A':14,\n",
        "  'B':15}\n",
        "\n",
        "kind_to_levelTitle = {\n",
        "  's':'section',\n",
        "  't':'sub-section title',\n",
        "  'c':'class',\n",
        "  'I':'sub-class index',\n",
        "  'u':'sub-class',\n",
        "  'g':'guidance heading',\n",
        "  'm':'main group',\n",
        "  '1':'.subgroup',\n",
        "  '2':'..subgroup',\n",
        "  '3':'...subgroup',\n",
        "  '4':'....subgroup',\n",
        "  '5':'.....subgroup',\n",
        "  '6':'......subgroup',\n",
        "  'n':'note'}\n",
        "```"
      ]
    },
    {
      "cell_type": "markdown",
      "metadata": {
        "id": "qUZiy1K9yw4k"
      },
      "source": [
        "here the list for all the interesing entries in our IPC XML\n",
        "\n",
        "```\n",
        "whatlevel = [\"s\",\"c\",\"u,\"m\",\"1\",\"2\",\"3\",\"4\",\"5\",\"6\",\"7\",\"8\",\"9\",\"A\",\"B\"]\n",
        "```\n",
        "\n"
      ]
    },
    {
      "cell_type": "markdown",
      "metadata": {
        "id": "6O37hTXpQhcu"
      },
      "source": [
        "#Next Sample Code\n",
        "\n",
        "Now we use lxml again and try to iterate two levels down and print a list of section, classes and sub classes. "
      ]
    },
    {
      "cell_type": "code",
      "metadata": {
        "id": "wRhcVGeDopSF"
      },
      "source": [
        "from lxml import etree as ET\n",
        "\n",
        "filename = \"./EN_ipc_scheme_20210101.xml\"\n",
        "parser = ET.XMLParser(remove_blank_text=True)\n",
        "tree = ET.parse(filename, parser=parser)\n",
        "root = tree.getroot()\n",
        "\n",
        "ipcEntry = '{http://www.wipo.int/classifications/ipc/masterfiles}ipcEntry'\n",
        "\n",
        "for sections in root:    \n",
        "    print('1st level sections: ', sections.attrib['symbol'], \" kind:\", sections.attrib['kind'])    \n",
        "    \n",
        "    #go one level deeper to classes\n",
        "    for classes in sections.iterchildren(tag=ipcEntry):\n",
        "      print('2nd level classes: ', classes.attrib['symbol'], \" kind:\", classes.attrib['kind'])\n",
        "     \n",
        "      #go one level deeper to sub classes\n",
        "      for subclasses in classes.iterchildren(tag=ipcEntry):\n",
        "        print('3nd level sub classes: ', subclasses.attrib['symbol'], \" kind:\", subclasses.attrib['kind'])"
      ],
      "execution_count": null,
      "outputs": []
    },
    {
      "cell_type": "markdown",
      "metadata": {
        "id": "kLQfkHXCt9QF"
      },
      "source": [
        "and another way, iterate over all children, checking with if for specific 'kind' of entries. "
      ]
    },
    {
      "cell_type": "code",
      "metadata": {
        "colab": {
          "base_uri": "https://localhost:8080/"
        },
        "id": "HcZvIbymuWrr",
        "outputId": "c226b86c-40e0-4b2f-ef93-dda7b1c1d5ca"
      },
      "source": [
        "from lxml import etree as ET\n",
        "import time\n",
        "\n",
        "filename = \"./EN_ipc_scheme_20210101.xml\"\n",
        "\n",
        "parser = ET.XMLParser(remove_blank_text=True)\n",
        "tree = ET.parse(filename, parser=parser)\n",
        "root = tree.getroot()\n",
        "\n",
        "ipcEntry = '{http://www.wipo.int/classifications/ipc/masterfiles}ipcEntry'\n",
        "count = 0\n",
        "start = time.time()\n",
        "\n",
        "whatlevel = \"s\"\n",
        "\n",
        "for element in root.iter(ipcEntry):\n",
        "  if element.attrib['kind'] == whatlevel:\n",
        "    count = count + 1\n",
        "    #print(count, element.attrib['symbol'])\n",
        "\n",
        "print(\"for kind\", level, \"found\", count, 'entries in:', time.time() - start, 'sec')\n",
        "\n"
      ],
      "execution_count": 27,
      "outputs": [
        {
          "output_type": "stream",
          "text": [
            "for kind B found 8 entries in: 0.14451146125793457 sec\n"
          ],
          "name": "stdout"
        }
      ]
    },
    {
      "cell_type": "markdown",
      "metadata": {
        "id": "BUhvOHPSsW0v"
      },
      "source": [
        "Now with a list of all the \"kind\" of entries i want to check... "
      ]
    },
    {
      "cell_type": "code",
      "metadata": {
        "id": "n3clEzy_sZQS",
        "outputId": "5f4526f9-899f-40f9-962a-f2951a1adec4",
        "colab": {
          "base_uri": "https://localhost:8080/"
        }
      },
      "source": [
        "from lxml import etree as ET\n",
        "import time\n",
        "\n",
        "filename = \"./EN_ipc_scheme_20210101.xml\"\n",
        "\n",
        "parser = ET.XMLParser(remove_blank_text=True)\n",
        "tree = ET.parse(filename, parser=parser)\n",
        "root = tree.getroot()\n",
        "\n",
        "ipcEntry = '{http://www.wipo.int/classifications/ipc/masterfiles}ipcEntry'\n",
        "count = 0\n",
        "start = time.time()\n",
        "\n",
        "whatlevel = [\"s\",\"c\",\"u\",\"m\",\"1\",\"2\",\"3\",\"4\",\"5\",\"6\",\"7\",\"8\",\"9\",\"A\",\"B\"]\n",
        "\n",
        "for level in whatlevel:\n",
        "  for element in root.iter(ipcEntry):\n",
        "    if element.attrib['kind'] == level:\n",
        "      count = count + 1\n",
        "      #print(count, element.attrib['symbol'])\n",
        "  print(\"for kind\", level, \"found \", count, 'entries in: ', time.time() - start, 'sec')\n",
        "  count = 0\n",
        "  start = time.time()\n",
        "\n"
      ],
      "execution_count": 24,
      "outputs": [
        {
          "output_type": "stream",
          "text": [
            "for kind s found  8 entries in:  0.1453230381011963 sec\n",
            "for kind c found  131 entries in:  0.06272506713867188 sec\n",
            "for kind u found  646 entries in:  0.05954408645629883 sec\n",
            "for kind m found  7523 entries in:  0.06027412414550781 sec\n",
            "for kind 1 found  23390 entries in:  0.06109809875488281 sec\n",
            "for kind 2 found  23048 entries in:  0.06698441505432129 sec\n",
            "for kind 3 found  13661 entries in:  0.0701603889465332 sec\n",
            "for kind 4 found  5934 entries in:  0.06883525848388672 sec\n",
            "for kind 5 found  1987 entries in:  0.06235909461975098 sec\n",
            "for kind 6 found  638 entries in:  0.05954551696777344 sec\n",
            "for kind 7 found  155 entries in:  0.05702924728393555 sec\n",
            "for kind 8 found  68 entries in:  0.06024646759033203 sec\n",
            "for kind 9 found  10 entries in:  0.06020998954772949 sec\n",
            "for kind A found  4 entries in:  0.0600733757019043 sec\n",
            "for kind B found  4 entries in:  0.05907702445983887 sec\n"
          ],
          "name": "stdout"
        }
      ]
    }
  ]
}