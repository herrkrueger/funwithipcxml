{
  "nbformat": 4,
  "nbformat_minor": 0,
  "metadata": {
    "colab": {
      "name": "ipcbrowser.ipynb",
      "provenance": [],
      "collapsed_sections": [
        "kES1q_0TQ0qI"
      ],
      "toc_visible": true,
      "authorship_tag": "ABX9TyN7Ysx4UQ5gfidNdUfjCU/i",
      "include_colab_link": true
    },
    "kernelspec": {
      "name": "python3",
      "display_name": "Python 3"
    }
  },
  "cells": [
    {
      "cell_type": "markdown",
      "metadata": {
        "id": "view-in-github",
        "colab_type": "text"
      },
      "source": [
        "<a href=\"https://colab.research.google.com/github/herrkrueger/funwithipcxml/blob/main/ipcbrowser.ipynb\" target=\"_parent\"><img src=\"https://colab.research.google.com/assets/colab-badge.svg\" alt=\"Open In Colab\"/></a>"
      ]
    },
    {
      "cell_type": "markdown",
      "metadata": {
        "id": "NcmOXv9cDwrA"
      },
      "source": [
        "#Fun with IPC XML, Python xml, lxml and ElementTree\n",
        "\n",
        "###Python Quellen\n",
        "* John Shipman's tutorial on [Python XML processing with lxml](https://www.academia.edu/38587906/Python_XML_processing_with_lxml)\n",
        "* [The ElementTree API on](https://docs.python.org/3/library/xml.etree.elementtree.html) on python.org\n",
        "* Tutorials on [Real Python](https://realpython.com/)\n",
        "* [Pandas Documentation](https://pandas.pydata.org/pandas-docs/stable/index.html)\n",
        "\n",
        "###WIPO Links\n",
        "* Current Edition of IPC Master Files from [WIPO's Download and IT support area](https://www.wipo.int/classifications/ipc/en/ITsupport/), here the  [direkt link zu the zip File](https://www.wipo.int/ipc/itos4ipc/ITSupport_and_download_area//20210101/MasterFiles/ipc_scheme_images_20210101.zip)\n",
        "* Documentation and XSDs are [here](https://www.wipo.int/classifications/ipc/en/ITsupport/Version20210101/documentation/IPCfiles.html), esp. the Specification of the Scheme file [here](https://www.wipo.int/ipc/itos4ipc/ITSupport_and_download_area/Documentation/20210101/IPC_scheme_specs_v3_1.docx)\n",
        "* [Link](https://www.wipo.int/classifications/ipc/ipcpub/?notion=scheme&version=20210101&symbol=none&menulang=en&lang=en&viewmode=f&fipcpc=no&showdeleted=yes&indexes=no&headings=yes&notes=yes&direction=o2n&initial=A&cwid=none&tree=no&searchmode=smart) to the IPC Browser of WIPO\n",
        "\n",
        "\n",
        "First, we download the IPC XML from WIPO, to work with it further down the road. "
      ]
    },
    {
      "cell_type": "code",
      "metadata": {
        "colab": {
          "base_uri": "https://localhost:8080/"
        },
        "id": "AknoBqTbhtvo",
        "outputId": "3dd72a13-ad72-4a65-b8cf-ff40b7c67244"
      },
      "source": [
        "import requests, zipfile, io, os, time\n",
        "\n",
        "tic = time.perf_counter() * 1000\n",
        "\n",
        "url = 'https://www.wipo.int/ipc/itos4ipc/ITSupport_and_download_area//20210101/MasterFiles/ipc_scheme_20210101.zip'\n",
        "r = requests.get(url)\n",
        "z = zipfile.ZipFile(io.BytesIO(r.content))\n",
        "z.extractall()\n",
        "\n",
        "filename = os.listdir()[1]\n",
        "\n",
        "toc = time.perf_counter() * 1000\n",
        "\n",
        "print('downloaded and unzipped', filename, f'in: {(toc - tic):0.0f} ms')"
      ],
      "execution_count": 17,
      "outputs": [
        {
          "output_type": "stream",
          "text": [
            "downloaded and unzipped EN_ipc_scheme_20210101.xml in: 1655 ms\n"
          ],
          "name": "stdout"
        }
      ]
    },
    {
      "cell_type": "markdown",
      "metadata": {
        "id": "TUxWPJGqSnPE"
      },
      "source": [
        "\n",
        "#First Sample Code"
      ]
    },
    {
      "cell_type": "markdown",
      "metadata": {
        "id": "LuGcPR_EJA7F"
      },
      "source": [
        "First, we just import lxml and get the file (manual download, put it here next to the sample data) and access it, print the upper level elements tags and the attribut dictonary. These are the sections of the IPC Tree. The attributes contain: 'kind' and 'symbol' and 'entryTpe'."
      ]
    },
    {
      "cell_type": "code",
      "metadata": {
        "colab": {
          "base_uri": "https://localhost:8080/"
        },
        "id": "mUNPOSO-GaQ3",
        "outputId": "a7c09804-ec8b-498d-df48-64781c2d843f"
      },
      "source": [
        "from lxml import etree as ET\n",
        "\n",
        "filename = \"./EN_ipc_scheme_20210101.xml\"\n",
        "parser = ET.XMLParser(remove_blank_text=True)\n",
        "tree = ET.parse(filename, parser=parser)\n",
        "root = tree.getroot()\n",
        "\n",
        "for child in root:\n",
        "    print(child.tag, child.attrib)\n"
      ],
      "execution_count": null,
      "outputs": [
        {
          "output_type": "stream",
          "text": [
            "{http://www.wipo.int/classifications/ipc/masterfiles}ipcEntry {'kind': 's', 'symbol': 'A', 'entryType': 'K'}\n",
            "{http://www.wipo.int/classifications/ipc/masterfiles}ipcEntry {'kind': 's', 'symbol': 'B', 'entryType': 'K'}\n",
            "{http://www.wipo.int/classifications/ipc/masterfiles}ipcEntry {'kind': 's', 'symbol': 'C', 'entryType': 'K'}\n",
            "{http://www.wipo.int/classifications/ipc/masterfiles}ipcEntry {'kind': 's', 'symbol': 'D', 'entryType': 'K'}\n",
            "{http://www.wipo.int/classifications/ipc/masterfiles}ipcEntry {'kind': 's', 'symbol': 'E', 'entryType': 'K'}\n",
            "{http://www.wipo.int/classifications/ipc/masterfiles}ipcEntry {'kind': 's', 'symbol': 'F', 'entryType': 'K'}\n",
            "{http://www.wipo.int/classifications/ipc/masterfiles}ipcEntry {'kind': 's', 'symbol': 'G', 'entryType': 'K'}\n",
            "{http://www.wipo.int/classifications/ipc/masterfiles}ipcEntry {'kind': 's', 'symbol': 'H', 'entryType': 'K'}\n"
          ],
          "name": "stdout"
        }
      ]
    },
    {
      "cell_type": "markdown",
      "metadata": {
        "id": "ae7L55xD0kwu"
      },
      "source": [
        "just a different, shorter way of doing this stuff"
      ]
    },
    {
      "cell_type": "code",
      "metadata": {
        "colab": {
          "base_uri": "https://localhost:8080/"
        },
        "id": "YrLn37y8xT-Y",
        "outputId": "8f88d0bb-b8e9-4b8f-e039-259a4efa87ad"
      },
      "source": [
        "import xml.etree.ElementTree as ET\n",
        "root = ET.parse(\"./EN_ipc_scheme_20210101.xml\").getroot()\n",
        "\n",
        "for sections in root:\n",
        "   print(sections.tag, sections.attrib)"
      ],
      "execution_count": null,
      "outputs": [
        {
          "output_type": "stream",
          "text": [
            "{http://www.wipo.int/classifications/ipc/masterfiles}ipcEntry {'kind': 's', 'symbol': 'A', 'entryType': 'K'}\n",
            "{http://www.wipo.int/classifications/ipc/masterfiles}ipcEntry {'kind': 's', 'symbol': 'B', 'entryType': 'K'}\n",
            "{http://www.wipo.int/classifications/ipc/masterfiles}ipcEntry {'kind': 's', 'symbol': 'C', 'entryType': 'K'}\n",
            "{http://www.wipo.int/classifications/ipc/masterfiles}ipcEntry {'kind': 's', 'symbol': 'D', 'entryType': 'K'}\n",
            "{http://www.wipo.int/classifications/ipc/masterfiles}ipcEntry {'kind': 's', 'symbol': 'E', 'entryType': 'K'}\n",
            "{http://www.wipo.int/classifications/ipc/masterfiles}ipcEntry {'kind': 's', 'symbol': 'F', 'entryType': 'K'}\n",
            "{http://www.wipo.int/classifications/ipc/masterfiles}ipcEntry {'kind': 's', 'symbol': 'G', 'entryType': 'K'}\n",
            "{http://www.wipo.int/classifications/ipc/masterfiles}ipcEntry {'kind': 's', 'symbol': 'H', 'entryType': 'K'}\n"
          ],
          "name": "stdout"
        }
      ]
    },
    {
      "cell_type": "markdown",
      "metadata": {
        "id": "kES1q_0TQ0qI"
      },
      "source": [
        "##What do we see? \n",
        "\n",
        "The **tag** (including the xmlns - NameSpace, that this entry belongs. There is only one ns in the XML btw.) and the **attributes**, obviously, and the **atributes** are:\n",
        "\n",
        "* 'kind' with its Values:\n",
        " * s = section\n",
        " * t = sub-section title\n",
        " * c = class\n",
        " * i = sub-class index\n",
        " * u = sub-class\n",
        " * g = guidance heading\n",
        " * m = main group\n",
        " * 1 to B = 11 levels of group (hexadecimal notation)\n",
        " * n = note\n",
        "* 'symbol' with its Values:\n",
        " * The IPC Symbol! Thats the thing... \n",
        "* 'entryType' with its Values:\n",
        " * K = classification symbol (default, i.e. for classification purpose only)\n",
        " * I = Indexing symbol  (i.e. for indexing purpose only)\n",
        " * D = Double purpose classification symbol (i.e. for both classification and indexing purpose) – existed only prior to the IPC reform\n",
        " * Z = problematic entry (i.e. structure and/or contents have been partially converted from CPC or FI)\n",
        "Interesting for us, are only entryType 'K'"
      ]
    },
    {
      "cell_type": "markdown",
      "metadata": {
        "id": "_gVTQ_VZPCjb"
      },
      "source": [
        "Dictionaries for kind level and title of level\n",
        "```\n",
        "kind_to_level = {\n",
        "  's':1,\n",
        "  'c':2,\n",
        "  'u':3,\n",
        "  'g':4,\n",
        "  'm':4,\n",
        "  '1':5,\n",
        "  '2':6,\n",
        "  '3':7,\n",
        "  '4':8,\n",
        "  '5':9,\n",
        "  '6':10,\n",
        "  '7':11,\n",
        "  '8':12,\n",
        "  '9':13,\n",
        "  'A':14,\n",
        "  'B':15}\n",
        "\n",
        "kind_to_levelTitle = {\n",
        "  's':'section',\n",
        "  't':'sub-section title',\n",
        "  'c':'class',\n",
        "  'I':'sub-class index',\n",
        "  'u':'sub-class',\n",
        "  'g':'guidance heading',\n",
        "  'm':'main group',\n",
        "  '1':'.subgroup',\n",
        "  '2':'..subgroup',\n",
        "  '3':'...subgroup',\n",
        "  '4':'....subgroup',\n",
        "  '5':'.....subgroup',\n",
        "  '6':'......subgroup',\n",
        "  '7':'.......subgroup',\n",
        "  '8':'........subgroup',\n",
        "  '9':'.........subgroup',\n",
        "  'A':'..........subgroup',\n",
        "  'B':'...........subgroup',\n",
        "  'n':'note'}\n",
        "```"
      ]
    },
    {
      "cell_type": "markdown",
      "metadata": {
        "id": "qUZiy1K9yw4k"
      },
      "source": [
        "here the list for all the interesing entries in our IPC XML\n",
        "\n",
        "```\n",
        "whatlevel = [\"s\",\"c\",\"u,\"m\",\"1\",\"2\",\"3\",\"4\",\"5\",\"6\",\"7\",\"8\",\"9\",\"A\",\"B\"]\n",
        "```\n",
        "\n"
      ]
    },
    {
      "cell_type": "markdown",
      "metadata": {
        "id": "6O37hTXpQhcu"
      },
      "source": [
        "#Next Sample Code\n",
        "\n",
        "Now we use lxml again and try to iterate two levels down and print a list of section, classes and sub classes. "
      ]
    },
    {
      "cell_type": "code",
      "metadata": {
        "id": "wRhcVGeDopSF"
      },
      "source": [
        "from lxml import etree as ET\n",
        "\n",
        "filename = \"./EN_ipc_scheme_20210101.xml\"\n",
        "parser = ET.XMLParser(remove_blank_text=True)\n",
        "tree = ET.parse(filename, parser=parser)\n",
        "root = tree.getroot()\n",
        "\n",
        "ipcEntry = '{http://www.wipo.int/classifications/ipc/masterfiles}ipcEntry'\n",
        "\n",
        "for sections in root:    \n",
        "    print('1st level sections: ', sections.attrib['symbol'], \" kind:\", sections.attrib['kind'])    \n",
        "    \n",
        "    #go one level deeper to classes\n",
        "    for classes in sections.iterchildren(tag=ipcEntry):\n",
        "      print('2nd level classes: ', classes.attrib['symbol'], \" kind:\", classes.attrib['kind'])\n",
        "     \n",
        "      #go one level deeper to sub classes\n",
        "      for subclasses in classes.iterchildren(tag=ipcEntry):\n",
        "        print('3nd level sub classes: ', subclasses.attrib['symbol'], \" kind:\", subclasses.attrib['kind'])"
      ],
      "execution_count": null,
      "outputs": []
    },
    {
      "cell_type": "markdown",
      "metadata": {
        "id": "kLQfkHXCt9QF"
      },
      "source": [
        "now we learn python and find others ways, to iterate over all children, checking with if for specific 'kind' of entries. "
      ]
    },
    {
      "cell_type": "code",
      "metadata": {
        "colab": {
          "base_uri": "https://localhost:8080/"
        },
        "id": "HcZvIbymuWrr",
        "outputId": "29221d04-f98e-4f7b-a7c3-2791e2579d8b"
      },
      "source": [
        "from lxml import etree as ET\n",
        "import time\n",
        "\n",
        "filename = \"./EN_ipc_scheme_20210101.xml\"\n",
        "\n",
        "parser = ET.XMLParser(remove_blank_text=True)\n",
        "tree = ET.parse(filename, parser=parser)\n",
        "root = tree.getroot()\n",
        "\n",
        "ipcEntry = '{http://www.wipo.int/classifications/ipc/masterfiles}ipcEntry'\n",
        "count = 0\n",
        "start = time.time()\n",
        "\n",
        "whatlevel = \"1\"\n",
        "\n",
        "for element in root.iter(ipcEntry):\n",
        "  if element.attrib['kind'] == whatlevel:\n",
        "    count = count + 1\n",
        "    #print(count, element.attrib['symbol'])\n",
        "\n",
        "print(\"for kind\", element, \"found\", count, 'entries in:', time.time() - start, 'sec')\n",
        "\n"
      ],
      "execution_count": null,
      "outputs": [
        {
          "output_type": "stream",
          "text": [
            "for kind <Element {http://www.wipo.int/classifications/ipc/masterfiles}ipcEntry at 0x7fb3532a8c08> found 23390 entries in: 0.15462565422058105 sec\n"
          ],
          "name": "stdout"
        }
      ]
    },
    {
      "cell_type": "markdown",
      "metadata": {
        "id": "BUhvOHPSsW0v"
      },
      "source": [
        "Now with a tuple of all the \"kind\" of entries i want to check... "
      ]
    },
    {
      "cell_type": "code",
      "metadata": {
        "colab": {
          "base_uri": "https://localhost:8080/"
        },
        "id": "n3clEzy_sZQS",
        "outputId": "e02b8e58-024e-48c9-ae80-a52d3422fe17"
      },
      "source": [
        "from lxml import etree as ET\n",
        "import time\n",
        "\n",
        "filename = \"./EN_ipc_scheme_20210101.xml\"\n",
        "\n",
        "parser = ET.XMLParser(remove_blank_text=True)\n",
        "tree = ET.parse(filename, parser=parser)\n",
        "root = tree.getroot()\n",
        "\n",
        "ipcEntry = '{http://www.wipo.int/classifications/ipc/masterfiles}ipcEntry'\n",
        "count = 0\n",
        "\n",
        "whatlevel = (\"s\",\"c\",\"u\",\"m\",\"1\",\"2\",\"3\",\"4\",\"5\",\"6\",\"7\",\"8\",\"9\",\"A\",\"B\")\n",
        "\n",
        "for level in whatlevel:\n",
        "  \n",
        "  tic = time.perf_counter() * 1000\n",
        "\n",
        "  for element in root.iter(ipcEntry):\n",
        "    if element.attrib['kind'] == level:\n",
        "      count = count + 1\n",
        "      #print(count, element.attrib['symbol'])\n",
        "  \n",
        "  toc = time.perf_counter() * 1000\n",
        "\n",
        "  print(\"for kind\", level, \"found \", count, f\"entries in: {(toc - tic):0.0f} ms\")\n",
        "  \n",
        "  count = 0\n"
      ],
      "execution_count": null,
      "outputs": [
        {
          "output_type": "stream",
          "text": [
            "for kind s found  8 entries in: 142 ms\n",
            "for kind c found  131 entries in: 69 ms\n",
            "for kind u found  646 entries in: 70 ms\n",
            "for kind m found  7523 entries in: 75 ms\n",
            "for kind 1 found  23390 entries in: 76 ms\n",
            "for kind 2 found  23048 entries in: 71 ms\n",
            "for kind 3 found  13661 entries in: 71 ms\n",
            "for kind 4 found  5934 entries in: 75 ms\n",
            "for kind 5 found  1987 entries in: 68 ms\n",
            "for kind 6 found  638 entries in: 67 ms\n",
            "for kind 7 found  155 entries in: 69 ms\n",
            "for kind 8 found  68 entries in: 67 ms\n",
            "for kind 9 found  10 entries in: 76 ms\n",
            "for kind A found  4 entries in: 76 ms\n",
            "for kind B found  4 entries in: 72 ms\n"
          ],
          "name": "stdout"
        }
      ]
    },
    {
      "cell_type": "markdown",
      "metadata": {
        "id": "gmBivZBp4-iS"
      },
      "source": [
        "now with a dictonary"
      ]
    },
    {
      "cell_type": "code",
      "metadata": {
        "colab": {
          "base_uri": "https://localhost:8080/"
        },
        "id": "hWm_dXtC5DgV",
        "outputId": "a181311e-98be-4b00-fc40-a59967ee35dc"
      },
      "source": [
        "from lxml import etree as ET\n",
        "import time\n",
        "\n",
        "filename = \"./EN_ipc_scheme_20210101.xml\"\n",
        "\n",
        "parser = ET.XMLParser(remove_blank_text=True)\n",
        "tree = ET.parse(filename, parser=parser)\n",
        "root = tree.getroot()\n",
        "\n",
        "ipcEntry = '{http://www.wipo.int/classifications/ipc/masterfiles}ipcEntry'\n",
        "\n",
        "whatlevel = {\n",
        "  's':'section',\n",
        "  't':'sub-section title',\n",
        "  'c':'class',\n",
        "  'I':'sub-class index',\n",
        "  'u':'sub-class',\n",
        "  'g':'guidance heading',\n",
        "  'm':'main group',\n",
        "  '1':'.subgroup',\n",
        "  '2':'..subgroup',\n",
        "  '3':'...subgroup',\n",
        "  '4':'....subgroup',\n",
        "  '5':'.....subgroup',\n",
        "  '6':'......subgroup',\n",
        "  '7':'.......subgroup',\n",
        "  '8':'........subgroup',\n",
        "  '9':'.........subgroup',\n",
        "  'A':'..........subgroup',\n",
        "  'B':'...........subgroup',\n",
        "  'n':'note'}\n",
        "\n",
        "for level in whatlevel.keys():\n",
        "  \n",
        "  count = 0\n",
        "  start = time.time()\n",
        "\n",
        "  for element in root.iter(ipcEntry):\n",
        "    if element.attrib['kind'] == level:\n",
        "      count = count + 1\n",
        "      #print(count, element.attrib['symbol'])\n",
        "  print(\"for kind \", whatlevel[level], \"found \", count, f'entries (in: {(time.time() - start) * 1000:0.0f} ms)')\n",
        "  \n",
        "  count = 0\n",
        "  start = time.time()\n",
        "  "
      ],
      "execution_count": null,
      "outputs": [
        {
          "output_type": "stream",
          "text": [
            "for kind  section found  8 entries (in: 152 ms)\n",
            "for kind  sub-section title found  20 entries (in: 72 ms)\n",
            "for kind  class found  131 entries (in: 70 ms)\n",
            "for kind  sub-class index found  0 entries (in: 72 ms)\n",
            "for kind  sub-class found  646 entries (in: 73 ms)\n",
            "for kind  guidance heading found  547 entries (in: 74 ms)\n",
            "for kind  main group found  7523 entries (in: 69 ms)\n",
            "for kind  .subgroup found  23390 entries (in: 76 ms)\n",
            "for kind  ..subgroup found  23048 entries (in: 71 ms)\n",
            "for kind  ...subgroup found  13661 entries (in: 71 ms)\n",
            "for kind  ....subgroup found  5934 entries (in: 78 ms)\n",
            "for kind  .....subgroup found  1987 entries (in: 71 ms)\n",
            "for kind  ......subgroup found  638 entries (in: 68 ms)\n",
            "for kind  .......subgroup found  155 entries (in: 70 ms)\n",
            "for kind  ........subgroup found  68 entries (in: 68 ms)\n",
            "for kind  .........subgroup found  10 entries (in: 68 ms)\n",
            "for kind  ..........subgroup found  4 entries (in: 73 ms)\n",
            "for kind  ...........subgroup found  4 entries (in: 68 ms)\n",
            "for kind  note found  959 entries (in: 79 ms)\n"
          ],
          "name": "stdout"
        }
      ]
    },
    {
      "cell_type": "markdown",
      "metadata": {
        "id": "fKeeuTVdLQhC"
      },
      "source": [
        "#Sample with a Recursive Function\n",
        "\n",
        "\n",
        "pre thinking:\n",
        "\n",
        "i have a dictionary with all the attributes of \"kind\", which represents the 19 level in the hierarchical ipc xml.\n",
        "\n",
        "letz say, i want to go 4 levels deep. so i call a function:\n",
        "\n",
        "countLevel(4)\n",
        "\n",
        "so why would i need a recursive function? \n",
        "\n",
        "i could just go: for n in level: \n",
        "to make 4 iterations down the road\n",
        "\n",
        "for a recursive function i do need, some exit criteria and the self call, in case the exit criteria is not matched. \n",
        "\n",
        "found smth on [stackexchange](https://codereview.stackexchange.com/questions/145848/recursively-generating-flat-xml-elements-from-hierarchical-data-structure)\n",
        "\n",
        "\n",
        "\n",
        "```\n",
        "class Scorer:\n",
        "    def generate_report(self, score):\n",
        "        r = etree.Element('report', user=getpass.getuser(), time=timestamp())\n",
        "        etree.SubElement(r, 'summary', tests=score.total(), …)\n",
        "        etree.SubElement(r, 'results', file=self.results_path)\n",
        "        samples = etree.SubElement(r, 'samples')\n",
        "        for sample in self._samples(score):\n",
        "            etree.SubElement(samples, 'sample', sample.report_attr())\n",
        "        return r\n",
        "\n",
        "    def _samples(data):\n",
        "        # Some scores are wrappers that should not be included in output\n",
        "        if not data.wrapper:\n",
        "            yield data\n",
        "        yield from _samples(data.sub_scores)\n",
        "```\n",
        "\n",
        "\n",
        "\n",
        "mhh?\n"
      ]
    },
    {
      "cell_type": "code",
      "metadata": {
        "id": "FUuag4AWLVR-",
        "colab": {
          "base_uri": "https://localhost:8080/"
        },
        "outputId": "48fb348c-5ea3-4f8f-f7c3-55ce70a9ab0e"
      },
      "source": [
        "from lxml import etree as ET\n",
        "import time\n",
        "\n",
        "filename = \"./EN_ipc_scheme_20210101.xml\"\n",
        "\n",
        "parser = ET.XMLParser(remove_blank_text=True)\n",
        "tree = ET.parse(filename, parser=parser)\n",
        "root = tree.getroot()\n",
        "\n",
        "ipcEntry = '{http://www.wipo.int/classifications/ipc/masterfiles}ipcEntry'\n",
        "\n",
        "whatlevel = {\n",
        "  's':'section',\n",
        "  't':'sub-section title',\n",
        "  'c':'class',\n",
        "  'I':'sub-class index',\n",
        "  'u':'sub-class',\n",
        "  'g':'guidance heading',\n",
        "  'm':'main group',\n",
        "  '1':'.subgroup',\n",
        "  '2':'..subgroup',\n",
        "  '3':'...subgroup',\n",
        "  '4':'....subgroup',\n",
        "  '5':'.....subgroup',\n",
        "  '6':'......subgroup',\n",
        "  '7':'.......subgroup',\n",
        "  '8':'........subgroup',\n",
        "  '9':'.........subgroup',\n",
        "  'A':'..........subgroup',\n",
        "  'B':'...........subgroup',\n",
        "  'n':'note'}\n",
        "\n",
        "def iterDurchsXML(level):\n",
        "  count = 0\n",
        "  tic = time.perf_counter() * 1000\n",
        "  for element in root.iter(ipcEntry):\n",
        "    if element.attrib['kind'] == level:\n",
        "      count = count + 1\n",
        "      #print(count, element.attrib['symbol'])\n",
        "  toc = time.perf_counter() * 1000\n",
        "  print(\"for kind\", level, \"found \", count, f\"entries in: {(toc - tic):0.0f} ms\")    \n",
        "    \n",
        "iterDurchsXML(\"3\")\n",
        "\n",
        "### here will be my recursive function soon\n",
        "\n",
        "def recWalker(node, level):\n",
        "  level = level + 1\n",
        "  if node == none: \n",
        "      return \" \"\n",
        "      for child in node:\n",
        "        return child.tag + \" - \" + recWalker(child, level)\n",
        "\n",
        "#print(recWalker(root, 0))\n",
        "\n"
      ],
      "execution_count": 5,
      "outputs": [
        {
          "output_type": "stream",
          "text": [
            "for kind 3 found  13661 entries in: 63 ms\n"
          ],
          "name": "stdout"
        }
      ]
    },
    {
      "cell_type": "markdown",
      "metadata": {
        "id": "dtATWUorhgGI"
      },
      "source": [
        "#Next Idea\n",
        "\n",
        "Use a different module, here xml.dom.minidom\n",
        "\n",
        "* as described [here](https://docs.python.org/3/library/xml.dom.minidom.html#module-xml.dom.minidom) at python.org\n",
        "* and the DOM [here]((https://www.w3.org/TR/REC-DOM-Level-1/level-one-core.html)) at w3c.org\n",
        "\n",
        "Interesting functions would access Node with parentNode, childNodes, firstChild, lastChild, previousSibling and nextSibling and their content and attributes. "
      ]
    },
    {
      "cell_type": "code",
      "metadata": {
        "id": "pUFm6-_RhkJB"
      },
      "source": [
        "import xml.dom.minidom\n",
        "#the module used for parsing the xml file is imported\n",
        "\n",
        "xml_file = “./EN_ipc_scheme_20210101.xml”\n",
        "tag_name = ‘ipcEntry’\n",
        "attr_name = “symbol”\n",
        "\n",
        "#This function is declared with three arguements namely the xml file to be parsed, the tag name and the attribute name and it does the magic\n",
        "def generic_dom(xml_file,tag_name,attr_name):\n",
        "  doc = xml.dom.minidom.parse(xml_file)\n",
        "  tags = doc.getElementsByTagName(tag_name)\n",
        "  print(doc)\n",
        "  print(tags)\n",
        "  for any_attr in tags:\n",
        "    attr = any_attr.getAttribute(attr_name)\n",
        "    print(attr)\n",
        "  \n",
        "generic_dom(xml_file,tag_name,attr_name)"
      ],
      "execution_count": null,
      "outputs": []
    }
  ]
}